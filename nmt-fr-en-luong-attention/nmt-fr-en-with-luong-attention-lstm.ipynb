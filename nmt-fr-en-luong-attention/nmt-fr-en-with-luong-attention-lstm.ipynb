{
 "cells": [
  {
   "cell_type": "markdown",
   "metadata": {
    "id": "sqcdQfs479Yu",
    "papermill": {
     "duration": 0.015557,
     "end_time": "2021-03-11T06:28:07.920548",
     "exception": false,
     "start_time": "2021-03-11T06:28:07.904991",
     "status": "completed"
    },
    "tags": []
   },
   "source": [
    "In this project we will build and encoder-decoder model with Luong attention that will translate French sentences to English.\n",
    "\n",
    "The dataset used in this notebook is provided by: [http://www.manythings.org/anki/](http://www.manythings.org/anki/).\n",
    "\n",
    "This dataset contains approximatly 180 000 tab-delimited English-French sentence pairs."
   ]
  },
  {
   "cell_type": "markdown",
   "metadata": {
    "id": "omkAnepExiR1",
    "papermill": {
     "duration": 0.013432,
     "end_time": "2021-03-11T06:28:07.948102",
     "exception": false,
     "start_time": "2021-03-11T06:28:07.934670",
     "status": "completed"
    },
    "tags": []
   },
   "source": [
    "# Import"
   ]
  },
  {
   "cell_type": "code",
   "execution_count": 1,
   "metadata": {
    "execution": {
     "iopub.execute_input": "2021-03-11T06:28:07.982452Z",
     "iopub.status.busy": "2021-03-11T06:28:07.981764Z",
     "iopub.status.idle": "2021-03-11T06:28:13.431007Z",
     "shell.execute_reply": "2021-03-11T06:28:13.430394Z"
    },
    "id": "IaVuzLS-wgyH",
    "papermill": {
     "duration": 5.469268,
     "end_time": "2021-03-11T06:28:13.431179",
     "exception": false,
     "start_time": "2021-03-11T06:28:07.961911",
     "status": "completed"
    },
    "tags": []
   },
   "outputs": [],
   "source": [
    "import tensorflow as tf\n",
    "from tensorflow import keras\n",
    "from tensorflow.keras.preprocessing.text import Tokenizer\n",
    "from tensorflow.keras.preprocessing.sequence import pad_sequences\n",
    "\n",
    "import matplotlib.pyplot as plt\n",
    "from sklearn.model_selection import train_test_split\n",
    "import numpy as np\n",
    "\n",
    "import unicodedata\n",
    "import re\n",
    "import os\n",
    "import io\n",
    "\n",
    "np.random.seed(42)\n",
    "tf.random.set_seed(42)\n",
    "\n",
    "path_to_file = '../input/bilingual-sentence-pairs/fra.txt'\n",
    "\n",
    "# If the notebook is running in colab the above file doesn't exist\n",
    "if not os.path.exists(path_to_file):\n",
    "    # if you are running this notebook in colab please download the file from \n",
    "    # the link above and put it in the current directory\n",
    "    path_to_file = os.path.join(os.curdir, 'fra.txt')"
   ]
  },
  {
   "cell_type": "markdown",
   "metadata": {
    "id": "qn6lynSSWgXF",
    "papermill": {
     "duration": 0.013706,
     "end_time": "2021-03-11T06:28:13.459404",
     "exception": false,
     "start_time": "2021-03-11T06:28:13.445698",
     "status": "completed"
    },
    "tags": []
   },
   "source": [
    "# Download and preprocess the data"
   ]
  },
  {
   "cell_type": "code",
   "execution_count": 2,
   "metadata": {
    "execution": {
     "iopub.execute_input": "2021-03-11T06:28:13.493025Z",
     "iopub.status.busy": "2021-03-11T06:28:13.492240Z",
     "iopub.status.idle": "2021-03-11T06:28:13.495054Z",
     "shell.execute_reply": "2021-03-11T06:28:13.494644Z"
    },
    "id": "kNJdqhPhx_Uw",
    "papermill": {
     "duration": 0.021984,
     "end_time": "2021-03-11T06:28:13.495162",
     "exception": false,
     "start_time": "2021-03-11T06:28:13.473178",
     "status": "completed"
    },
    "tags": []
   },
   "outputs": [],
   "source": [
    "def unicode_to_ascii(s):\n",
    "    return ''.join(c for c in unicodedata.normalize('NFD', s)\n",
    "            if unicodedata.category(c) != 'Mn')\n",
    "\n",
    "def preprocess(s):\n",
    "    s = unicode_to_ascii(s.lower().strip())\n",
    "    s = re.sub(r\"([?.!,¿])\", r\" \\1 \", s)\n",
    "    s = re.sub(r'[\" \"]+', \" \", s)\n",
    "    s = re.sub(r\"[^a-zA-Z?.!,¿]+\", \" \", s)\n",
    "    s = s.strip()\n",
    "    # adding start-of-sequence (sos) token and end-of-sequence (eos) token\n",
    "    s = '<sos> ' + s + ' <eos>'\n",
    "    return s"
   ]
  },
  {
   "cell_type": "code",
   "execution_count": 3,
   "metadata": {
    "execution": {
     "iopub.execute_input": "2021-03-11T06:28:13.530716Z",
     "iopub.status.busy": "2021-03-11T06:28:13.530126Z",
     "iopub.status.idle": "2021-03-11T06:28:14.805529Z",
     "shell.execute_reply": "2021-03-11T06:28:14.804588Z"
    },
    "id": "ekDsbDrIY0KZ",
    "outputId": "09de3e3c-c013-4883-a019-cb2bcd4befcf",
    "papermill": {
     "duration": 1.296617,
     "end_time": "2021-03-11T06:28:14.805686",
     "exception": false,
     "start_time": "2021-03-11T06:28:13.509069",
     "status": "completed"
    },
    "tags": []
   },
   "outputs": [
    {
     "name": "stdout",
     "output_type": "stream",
     "text": [
      "<sos> i need it . <eos>\n",
      "<sos> j en ai besoin . <eos>\n"
     ]
    }
   ],
   "source": [
    "def tokenize(language):\n",
    "    # Use <unk> token for unkown words\n",
    "    tokenizer = Tokenizer(filters='', oov_token='<unk>')\n",
    "    tokenizer.fit_on_texts(language)\n",
    "\n",
    "    tensor = tokenizer.texts_to_sequences(language)\n",
    "    tensor = pad_sequences(tensor, padding='post')\n",
    "    return tensor, tokenizer\n",
    "\n",
    "def load_dataset(path, num_examples=None, prints=False) :\n",
    "    lines = open(path, encoding='UTF-8').read().strip().split('\\n')\n",
    "    \n",
    "    # list containing word pairs in the format: [[ENGLISH], [FRENCH]]\n",
    "    word_pairs = [[preprocess(w) for w in l.split('\\t')[:-1]] for l in lines[:num_examples]]\n",
    "    targ_lang, input_lang = zip(*word_pairs)\n",
    "\n",
    "    if prints:\n",
    "        print(targ_lang[-1])\n",
    "        print(input_lang[-1])\n",
    "        return\n",
    "    \n",
    "    input_tensor, input_tokenizer = tokenize(input_lang)\n",
    "    targ_tensor, targ_tokenizer = tokenize(targ_lang)\n",
    "\n",
    "    return input_tensor, targ_tensor, input_tokenizer, targ_tokenizer\n",
    "\n",
    "load_dataset(path_to_file, num_examples=1000, prints=True)"
   ]
  },
  {
   "cell_type": "markdown",
   "metadata": {
    "id": "_MWwuUAZLZNk",
    "papermill": {
     "duration": 0.014061,
     "end_time": "2021-03-11T06:28:14.835667",
     "exception": false,
     "start_time": "2021-03-11T06:28:14.821606",
     "status": "completed"
    },
    "tags": []
   },
   "source": [
    "# Load and Split de Data"
   ]
  },
  {
   "cell_type": "code",
   "execution_count": 4,
   "metadata": {
    "execution": {
     "iopub.execute_input": "2021-03-11T06:28:14.870228Z",
     "iopub.status.busy": "2021-03-11T06:28:14.869352Z",
     "iopub.status.idle": "2021-03-11T06:28:35.570375Z",
     "shell.execute_reply": "2021-03-11T06:28:35.569540Z"
    },
    "id": "FCbsYaSBJIkI",
    "papermill": {
     "duration": 20.72016,
     "end_time": "2021-03-11T06:28:35.570510",
     "exception": false,
     "start_time": "2021-03-11T06:28:14.850350",
     "status": "completed"
    },
    "tags": []
   },
   "outputs": [
    {
     "name": "stdout",
     "output_type": "stream",
     "text": [
      "Input tensors:  (148466, 65) (37117, 65)\n",
      "Target tensors:  (148466, 53) (37117, 53)\n"
     ]
    }
   ],
   "source": [
    "inp_tensor, targ_tensor, inp_lang, targ_lang = load_dataset(path_to_file)\n",
    "inp_tensor_train, inp_tensor_val, \\\n",
    "targ_tensor_train, targ_tensor_val = \\\n",
    "train_test_split(inp_tensor, targ_tensor, test_size=0.2)\n",
    "print(\"Input tensors: \", inp_tensor_train.shape, inp_tensor_val.shape)\n",
    "print(\"Target tensors: \", targ_tensor_train.shape, targ_tensor_val.shape)"
   ]
  },
  {
   "cell_type": "markdown",
   "metadata": {
    "id": "cGHNo7Wen18a",
    "papermill": {
     "duration": 0.014452,
     "end_time": "2021-03-11T06:28:35.599857",
     "exception": false,
     "start_time": "2021-03-11T06:28:35.585405",
     "status": "completed"
    },
    "tags": []
   },
   "source": [
    "# Create the Dataset"
   ]
  },
  {
   "cell_type": "code",
   "execution_count": 5,
   "metadata": {
    "execution": {
     "iopub.execute_input": "2021-03-11T06:28:36.451903Z",
     "iopub.status.busy": "2021-03-11T06:28:36.451204Z",
     "iopub.status.idle": "2021-03-11T06:28:38.749647Z",
     "shell.execute_reply": "2021-03-11T06:28:38.750069Z"
    },
    "id": "yLmqaGX5kgLj",
    "papermill": {
     "duration": 3.135847,
     "end_time": "2021-03-11T06:28:38.750217",
     "exception": false,
     "start_time": "2021-03-11T06:28:35.614370",
     "status": "completed"
    },
    "tags": []
   },
   "outputs": [
    {
     "data": {
      "text/plain": [
       "(TensorShape([64, 65]), TensorShape([64, 53]))"
      ]
     },
     "execution_count": 5,
     "metadata": {},
     "output_type": "execute_result"
    }
   ],
   "source": [
    "buffer_size = len(inp_tensor_train)\n",
    "batch_size = 64\n",
    "steps_per_epoch = len(inp_tensor_train) // batch_size\n",
    "embedding_dim = 256\n",
    "units = 1024 \n",
    "vocab_inp_size = len(inp_lang.index_word) + 1\n",
    "vocab_targ_size = len(targ_lang.index_word) + 1\n",
    "\n",
    "def create_dataset(shuffle=True, buffer_size=buffer_size, batch_size=batch_size):\n",
    "    ds = tf.data.Dataset.from_tensor_slices((inp_tensor_train, targ_tensor_train))\n",
    "    if shuffle:\n",
    "        ds = ds.shuffle(buffer_size)\n",
    "    ds = ds.batch(batch_size, drop_remainder=True)\n",
    "    return ds.prefetch(1)\n",
    "\n",
    "train_dataset = create_dataset()\n",
    "valid_dataset = create_dataset(shuffle=False)\n",
    "inp_batch, targ_batch = next(iter(train_dataset))\n",
    "inp_batch.shape, targ_batch.shape"
   ]
  },
  {
   "cell_type": "markdown",
   "metadata": {
    "id": "6xCA0lDrd59I",
    "papermill": {
     "duration": 0.015193,
     "end_time": "2021-03-11T06:28:38.780778",
     "exception": false,
     "start_time": "2021-03-11T06:28:38.765585",
     "status": "completed"
    },
    "tags": []
   },
   "source": [
    "# Create the Model\n",
    "\n",
    "The model will be similar to the TensorFlow tutorial except that I will use Luong attention instead of Bahdanau and LSTM layer instead of GRU."
   ]
  },
  {
   "cell_type": "code",
   "execution_count": 6,
   "metadata": {
    "execution": {
     "iopub.execute_input": "2021-03-11T06:28:38.819510Z",
     "iopub.status.busy": "2021-03-11T06:28:38.818883Z",
     "iopub.status.idle": "2021-03-11T06:28:42.026966Z",
     "shell.execute_reply": "2021-03-11T06:28:42.025806Z"
    },
    "id": "O9k1Y1awuNKC",
    "papermill": {
     "duration": 3.231235,
     "end_time": "2021-03-11T06:28:42.027096",
     "exception": false,
     "start_time": "2021-03-11T06:28:38.795861",
     "status": "completed"
    },
    "tags": []
   },
   "outputs": [
    {
     "name": "stdout",
     "output_type": "stream",
     "text": [
      "encoder output:       (batch size, seq length, enc_units)  (64, 65, 1024)\n",
      "encoder hidden state h: (batch size, enc_units)            (64, 1024)\n",
      "encoder hidden state c: (batch size, enc_units)            (64, 1024)\n"
     ]
    }
   ],
   "source": [
    "from tensorflow.keras.layers import Embedding, LSTM, dot, Dense\n",
    "\n",
    "class Encoder(tf.keras.Model):\n",
    "    def __init__(self, vocab_size, embedding_dim, enc_units, batch_size):\n",
    "        super().__init__()\n",
    "        self.batch_size = batch_size\n",
    "        self.enc_units = enc_units\n",
    "        self.embedding = Embedding(vocab_size, embedding_dim)\n",
    "        self.lstm = LSTM(self.enc_units, return_state=True, return_sequences=True)\n",
    "\n",
    "    def call(self, inp_batch, state_h, state_c):\n",
    "        inp_batch = self.embedding(inp_batch)\n",
    "        output, state_h, statec = self.lstm(inp_batch, initial_state=[state_h, state_c])\n",
    "        return output, state_h, state_c\n",
    "\n",
    "    def initialize_state(self):\n",
    "        return [tf.zeros((self.batch_size, self.enc_units)), tf.zeros((self.batch_size, self.enc_units))]\n",
    "\n",
    "encoder = Encoder(vocab_inp_size, embedding_dim, units, batch_size)\n",
    "[enc_state_h, enc_state_c] = encoder.initialize_state()\n",
    "enc_output, enc_state_h, enc_state_c = encoder(inp_batch, enc_state_h, enc_state_c)\n",
    "print (f'encoder output:       (batch size, seq length, enc_units)  {enc_output.shape}')\n",
    "print (f'encoder hidden state h: (batch size, enc_units)            {enc_state_h.shape}')\n",
    "print (f'encoder hidden state c: (batch size, enc_units)            {enc_state_c.shape}')"
   ]
  },
  {
   "cell_type": "code",
   "execution_count": 7,
   "metadata": {
    "cellView": "form",
    "execution": {
     "iopub.execute_input": "2021-03-11T06:28:42.063572Z",
     "iopub.status.busy": "2021-03-11T06:28:42.063013Z",
     "iopub.status.idle": "2021-03-11T06:28:42.066831Z",
     "shell.execute_reply": "2021-03-11T06:28:42.067217Z"
    },
    "id": "adCNG1QOuKiK",
    "papermill": {
     "duration": 0.024311,
     "end_time": "2021-03-11T06:28:42.067365",
     "exception": false,
     "start_time": "2021-03-11T06:28:42.043054",
     "status": "completed"
    },
    "tags": []
   },
   "outputs": [],
   "source": [
    "def print_shapes(enc_output, dec_state, score, attention_weights, context_vector):\n",
    "    print(f\"btach_size: {batch_size}\")\n",
    "    print(f\"seq_length: {inp_tensor_train.shape[1]}\")\n",
    "    print(f\"enc_units: {units}\")\n",
    "    print()\n",
    "    print(f\"enc_output:        {enc_output.shape}\")\n",
    "    print(f\"dec_state:         {dec_state.shape}\")\n",
    "    print(f\"score:             {score.shape}\")\n",
    "    print(f\"attention_weights: {attention_weights.shape}\")\n",
    "    print(f\"context_vector:    {context_vector.shape}\")"
   ]
  },
  {
   "cell_type": "code",
   "execution_count": 8,
   "metadata": {
    "execution": {
     "iopub.execute_input": "2021-03-11T06:28:42.106995Z",
     "iopub.status.busy": "2021-03-11T06:28:42.106179Z",
     "iopub.status.idle": "2021-03-11T06:28:42.664483Z",
     "shell.execute_reply": "2021-03-11T06:28:42.663757Z"
    },
    "id": "GC9mqVmnuM52",
    "papermill": {
     "duration": 0.581737,
     "end_time": "2021-03-11T06:28:42.664615",
     "exception": false,
     "start_time": "2021-03-11T06:28:42.082878",
     "status": "completed"
    },
    "tags": []
   },
   "outputs": [
    {
     "name": "stdout",
     "output_type": "stream",
     "text": [
      "btach_size: 64\n",
      "seq_length: 65\n",
      "enc_units: 1024\n",
      "\n",
      "enc_output:        (64, 65, 1024)\n",
      "dec_state:         (64, 1024, 1)\n",
      "score:             (64, 65, 1)\n",
      "attention_weights: (64, 65, 1)\n",
      "context_vector:    (64, 1024)\n"
     ]
    }
   ],
   "source": [
    "class LuongAttention(tf.keras.layers.Layer):\n",
    "    def __init(self):\n",
    "        super().__init__()\n",
    "\n",
    "    def call(self, dec_state_h, dec_state_c, enc_output, prints=False):\n",
    "        dec_state = tf.add(dec_state_h, dec_state_c)\n",
    "        dec_state = dec_state[:, :, tf.newaxis]\n",
    "    \n",
    "        score = dot([enc_output, dec_state], axes=[2, 1])\n",
    "        attention_weights = tf.nn.softmax(score, axis=1)\n",
    "\n",
    "        context_vector = attention_weights * enc_output\n",
    "        context_vector = tf.reduce_sum(context_vector, axis=1)\n",
    "\n",
    "        if prints:\n",
    "            print_shapes(enc_output, dec_state, score, attention_weights, context_vector)\n",
    "            return\n",
    "        return context_vector, attention_weights\n",
    "\n",
    "attention_layer = LuongAttention()\n",
    "# at the beginning we set the decoder state to the encoder state\n",
    "dec_state_h, dec_state_c = enc_state_h, enc_state_c\n",
    "attention_layer(dec_state_h, dec_state_c, enc_output, prints=True)"
   ]
  },
  {
   "cell_type": "code",
   "execution_count": 9,
   "metadata": {
    "execution": {
     "iopub.execute_input": "2021-03-11T06:28:42.708677Z",
     "iopub.status.busy": "2021-03-11T06:28:42.707871Z",
     "iopub.status.idle": "2021-03-11T06:28:44.211599Z",
     "shell.execute_reply": "2021-03-11T06:28:44.211113Z"
    },
    "id": "I9mWmBuHMSnY",
    "papermill": {
     "duration": 1.530366,
     "end_time": "2021-03-11T06:28:44.211734",
     "exception": false,
     "start_time": "2021-03-11T06:28:42.681368",
     "status": "completed"
    },
    "tags": []
   },
   "outputs": [
    {
     "name": "stdout",
     "output_type": "stream",
     "text": [
      "decoder output:       (batch size, vocab_size)  (64, 14410)\n",
      "decoder hidden state h: (batch size, dec_units)   (64, 1024)\n",
      "decoder hidden state c: (batch size, dec_units)   (64, 1024)\n"
     ]
    }
   ],
   "source": [
    "class Decoder(tf.keras.Model):\n",
    "    def __init__(self, vocab_size, embedding_dim, dec_units, batch_size):\n",
    "        super().__init__()\n",
    "        self.batch_size = batch_size\n",
    "        self.embedding = Embedding(vocab_size, embedding_dim)\n",
    "        self.lstm = LSTM(dec_units, return_state=True, return_sequences=True)\n",
    "        self.fc = Dense(vocab_size, activation=\"softmax\")\n",
    "        self.attention = LuongAttention()\n",
    "\n",
    "    def call(self, dec_input, dec_state_h, dec_state_c, enc_output):\n",
    "        context_vector, attention_weights = self.attention(dec_state_h, dec_state_c, enc_output)\n",
    "        # context_vactor: (batch_size, 1, embedding_dim)\n",
    "        context_vector = context_vector[:, tf.newaxis, :]\n",
    "\n",
    "        # x: (batch_size, 1, embedding_dim)\n",
    "        x = self.embedding(dec_input)\n",
    "        # x: (batch_size, 1, embedding_dim + enc_units)\n",
    "        x = tf.concat([context_vector, x], axis=-1)\n",
    "        \n",
    "        # output: (batch_size, 1, dec_units), state: (batch_size, dec_units)\n",
    "        output, state_h, state_c = self.lstm(x)\n",
    "        # output: (batch_size, dec_units)\n",
    "        output = tf.reshape(output, (-1, output.shape[2]))\n",
    "        x = self.fc(output)\n",
    "        return x, state_h, state_c, attention_weights\n",
    "\n",
    "decoder = Decoder(vocab_targ_size, embedding_dim, units, batch_size)\n",
    "dec_input = tf.random.uniform((batch_size, 1))\n",
    "dec_output, dec_state_h, dec_state_c, _ = decoder(dec_input, dec_state_h, dec_state_c, enc_output)\n",
    "\n",
    "print (f'decoder output:       (batch size, vocab_size)  {dec_output.shape}')\n",
    "print (f'decoder hidden state h: (batch size, dec_units)   {dec_state_h.shape}')\n",
    "print (f'decoder hidden state c: (batch size, dec_units)   {dec_state_c.shape}')"
   ]
  },
  {
   "cell_type": "markdown",
   "metadata": {
    "id": "3hneZHpefGeT",
    "papermill": {
     "duration": 0.016137,
     "end_time": "2021-03-11T06:28:44.244918",
     "exception": false,
     "start_time": "2021-03-11T06:28:44.228781",
     "status": "completed"
    },
    "tags": []
   },
   "source": [
    "# Build a Custom Training Loop"
   ]
  },
  {
   "cell_type": "code",
   "execution_count": 10,
   "metadata": {
    "execution": {
     "iopub.execute_input": "2021-03-11T06:28:44.282496Z",
     "iopub.status.busy": "2021-03-11T06:28:44.281834Z",
     "iopub.status.idle": "2021-03-11T06:28:44.284852Z",
     "shell.execute_reply": "2021-03-11T06:28:44.284435Z"
    },
    "id": "CNJ3IX2BBZ_P",
    "papermill": {
     "duration": 0.02365,
     "end_time": "2021-03-11T06:28:44.284964",
     "exception": false,
     "start_time": "2021-03-11T06:28:44.261314",
     "status": "completed"
    },
    "tags": []
   },
   "outputs": [],
   "source": [
    "def print_status_bar(iteration, total, loss):    \n",
    "    metrics = \"loss: {:.4f}\".format(loss) \n",
    "    end = \"\" if iteration < total else \"\\n\"\n",
    "    print(\"\\r{}/{} - \".format(iteration, total) + metrics,end=end)"
   ]
  },
  {
   "cell_type": "code",
   "execution_count": 11,
   "metadata": {
    "execution": {
     "iopub.execute_input": "2021-03-11T06:28:44.327242Z",
     "iopub.status.busy": "2021-03-11T06:28:44.326452Z",
     "iopub.status.idle": "2021-03-11T06:28:44.329113Z",
     "shell.execute_reply": "2021-03-11T06:28:44.328716Z"
    },
    "id": "ami0SZ_Ud0KB",
    "papermill": {
     "duration": 0.028028,
     "end_time": "2021-03-11T06:28:44.329218",
     "exception": false,
     "start_time": "2021-03-11T06:28:44.301190",
     "status": "completed"
    },
    "tags": []
   },
   "outputs": [],
   "source": [
    "optimizer = tf.keras.optimizers.Adam()\n",
    "loss_object = tf.keras.losses.SparseCategoricalCrossentropy(reduction='none')\n",
    "\n",
    "def loss_function(real, pred):\n",
    "  mask = tf.math.logical_not(tf.math.equal(real, 0))\n",
    "  loss_ = loss_object(real, pred)\n",
    "\n",
    "  mask = tf.cast(mask, dtype=loss_.dtype)\n",
    "  loss_ *= mask\n",
    "  return tf.reduce_mean(loss_)\n",
    "\n",
    "@tf.function\n",
    "def train_step(inp_batch, targ_batch, enc_state_h, enc_state_c):\n",
    "    loss = 0\n",
    "\n",
    "    with tf.GradientTape() as tape:\n",
    "        enc_output, enc_state_h, enc_state_c = encoder(inp_batch, enc_state_h, enc_state_c)\n",
    "        # at the beginning we set the decoder state to the encoder state\n",
    "        dec_state_h, dec_state_c = enc_state_h, enc_state_c\n",
    "\n",
    "        # at the begining we feed the <sos> token as input for the decoder, \n",
    "        # then we will feed the target as input\n",
    "        dec_input = tf.expand_dims([targ_lang.word_index['<sos>']] * batch_size, 1)\n",
    "        for t in range(1, targ_batch.shape[1]): # targ_batch.shape[1] == seq length\n",
    "            predictions, dec_state_h, dec_state_c, _ = decoder(dec_input, dec_state_h, dec_state_c, enc_output)\n",
    "            loss += loss_function(targ_batch[:, t], predictions)\n",
    "\n",
    "            dec_input = tf.expand_dims(targ_batch[:, t], 1)\n",
    "        \n",
    "    batch_loss = loss / int(targ_batch.shape[1])\n",
    "    variables = encoder.trainable_variables + decoder.trainable_variables\n",
    "    gradients = tape.gradient(loss, variables)\n",
    "    optimizer.apply_gradients(zip(gradients, variables))\n",
    "    return batch_loss"
   ]
  },
  {
   "cell_type": "code",
   "execution_count": 12,
   "metadata": {
    "execution": {
     "iopub.execute_input": "2021-03-11T06:28:44.367898Z",
     "iopub.status.busy": "2021-03-11T06:28:44.367106Z",
     "iopub.status.idle": "2021-03-11T09:46:49.392590Z",
     "shell.execute_reply": "2021-03-11T09:46:49.392078Z"
    },
    "id": "Bmsa_XPiJxpW",
    "papermill": {
     "duration": 11885.047075,
     "end_time": "2021-03-11T09:46:49.392752",
     "exception": false,
     "start_time": "2021-03-11T06:28:44.345677",
     "status": "completed"
    },
    "tags": []
   },
   "outputs": [
    {
     "name": "stdout",
     "output_type": "stream",
     "text": [
      "Epoch 1/15\n",
      "2319/2319 - loss: 0.7060\n",
      "Epoch 2/15\n",
      "2319/2319 - loss: 0.5650\n",
      "Epoch 3/15\n",
      "2319/2319 - loss: 0.4641\n",
      "Epoch 4/15\n",
      "2319/2319 - loss: 0.3822\n",
      "Epoch 5/15\n",
      "2319/2319 - loss: 0.3179\n",
      "Epoch 6/15\n",
      "2319/2319 - loss: 0.2680\n",
      "Epoch 7/15\n",
      "2319/2319 - loss: 0.2292\n",
      "Epoch 8/15\n",
      "2319/2319 - loss: 0.2004\n",
      "Epoch 9/15\n",
      "2319/2319 - loss: 0.1783\n",
      "Epoch 10/15\n",
      "2319/2319 - loss: 0.1613\n",
      "Epoch 11/15\n",
      "2319/2319 - loss: 0.1471\n",
      "Epoch 12/15\n",
      "2319/2319 - loss: 0.1359\n",
      "Epoch 13/15\n",
      "2319/2319 - loss: 0.1269\n",
      "Epoch 14/15\n",
      "2319/2319 - loss: 0.1178\n",
      "Epoch 15/15\n",
      "2319/2319 - loss: 0.1107\n"
     ]
    }
   ],
   "source": [
    "epochs = 15\n",
    "\n",
    "for epoch in range(epochs):\n",
    "    print(\"Epoch {}/{}\".format(epoch + 1, epochs))\n",
    "    [enc_state_h, enc_state_c] = encoder.initialize_state()\n",
    "    total_loss = 0\n",
    "    \n",
    "    for (batch, (inp, targ)) in enumerate(train_dataset.take(steps_per_epoch)):\n",
    "        batch_loss = train_step(inp, targ, enc_state_h, enc_state_c)\n",
    "        total_loss += batch_loss\n",
    "\n",
    "        print_status_bar(batch, steps_per_epoch, batch_loss.numpy())\n",
    "    print_status_bar(steps_per_epoch, steps_per_epoch, total_loss / steps_per_epoch)"
   ]
  },
  {
   "cell_type": "markdown",
   "metadata": {
    "id": "Xt1dhHX6ZhrG",
    "papermill": {
     "duration": 8.70162,
     "end_time": "2021-03-11T09:47:07.106317",
     "exception": false,
     "start_time": "2021-03-11T09:46:58.404697",
     "status": "completed"
    },
    "tags": []
   },
   "source": [
    "# Translate"
   ]
  },
  {
   "cell_type": "code",
   "execution_count": 13,
   "metadata": {
    "execution": {
     "iopub.execute_input": "2021-03-11T09:47:25.624068Z",
     "iopub.status.busy": "2021-03-11T09:47:25.622266Z",
     "iopub.status.idle": "2021-03-11T09:47:25.624670Z",
     "shell.execute_reply": "2021-03-11T09:47:25.625068Z"
    },
    "papermill": {
     "duration": 8.958282,
     "end_time": "2021-03-11T09:47:25.625205",
     "exception": false,
     "start_time": "2021-03-11T09:47:16.666923",
     "status": "completed"
    },
    "tags": []
   },
   "outputs": [],
   "source": [
    "def evaluate(sentence, targ_tensor, inp_tensor):\n",
    "    # targ_tensor.shape[1] == max seq length for the target language (EN)\n",
    "    # inp_tensor.shape[1] == max seq length for the input language (FR)\n",
    "    attention_plot = np.zeros((targ_tensor.shape[1], inp_tensor.shape[1]))\n",
    "    \n",
    "    sentence = preprocess(sentence)\n",
    "\n",
    "    inputs = inp_lang.texts_to_sequences([sentence])\n",
    "    inputs = pad_sequences(inputs, maxlen=inp_tensor.shape[1], padding='post')\n",
    "    inputs = tf.convert_to_tensor(inputs)\n",
    "    result = ''\n",
    "\n",
    "    [enc_state_h, enc_state_c] = [tf.zeros((1, units)), tf.zeros((1, units))]\n",
    "    enc_output, enc_state_h, enc_state_c = encoder(inputs, enc_state_h, enc_state_c)\n",
    "    dec_state_h, dec_state_c = enc_state_h, enc_state_c\n",
    "    dec_input = tf.expand_dims([targ_lang.word_index['<sos>']], 0)\n",
    "\n",
    "    for t in range(targ_tensor.shape[1]):\n",
    "        predictions, dec_state_h, dec_state_c, attention_weights = decoder(dec_input, \n",
    "                                                                           dec_state_h, \n",
    "                                                                           dec_state_c, \n",
    "                                                                           enc_output)\n",
    "        \n",
    "        attention_weights = tf.reshape(attention_weights, (-1, ))\n",
    "        attention_plot[t] = attention_weights.numpy()\n",
    "\n",
    "        predicted_id = tf.argmax(predictions[0]).numpy()\n",
    "        result += targ_lang.index_word[predicted_id] + ' '\n",
    "\n",
    "        # stop prediction\n",
    "        if targ_lang.index_word[predicted_id] == '<eos>':\n",
    "            return result, sentence, attention_plot\n",
    "\n",
    "        dec_input = tf.expand_dims([predicted_id], 0)\n",
    "\n",
    "    return result, sentence, attention_plot"
   ]
  },
  {
   "cell_type": "code",
   "execution_count": 14,
   "metadata": {
    "execution": {
     "iopub.execute_input": "2021-03-11T09:47:43.661799Z",
     "iopub.status.busy": "2021-03-11T09:47:43.660501Z",
     "iopub.status.idle": "2021-03-11T09:47:43.662624Z",
     "shell.execute_reply": "2021-03-11T09:47:43.663127Z"
    },
    "papermill": {
     "duration": 8.948551,
     "end_time": "2021-03-11T09:47:43.663280",
     "exception": false,
     "start_time": "2021-03-11T09:47:34.714729",
     "status": "completed"
    },
    "tags": []
   },
   "outputs": [],
   "source": [
    "# function for plotting the attention weights to visualize how the model works internally\n",
    "def plot_attention(attention, sentence, predicted_sentence):\n",
    "  fig = plt.figure(figsize=(10,10))\n",
    "  ax = fig.add_subplot(1, 1, 1)\n",
    "  ax.matshow(attention, cmap='viridis')\n",
    "    \n",
    "  ax.set_xticklabels([''] + sentence, rotation=90)\n",
    "  ax.set_yticklabels([''] + predicted_sentence)\n",
    "\n",
    "  plt.show()\n",
    "\n",
    "\n",
    "def translate(sentence, ground_truth=None, plot_weights=True):\n",
    "    result, sentence, attention_plot = evaluate(sentence, targ_tensor, inp_tensor)\n",
    "\n",
    "    print(f'{\"Input:\":15s} {sentence}')\n",
    "    print(f'{\"Prediction:\":15s} {result}')\n",
    "    if ground_truth: print(f'{\"Ground truth:\":15s} {ground_truth}') \n",
    "    \n",
    "    if plot_weights:\n",
    "        attention_plot = attention_plot[:len(result.split(' ')), :len(sentence.split(' '))]\n",
    "        plot_attention(attention_plot, sentence.split(' '), result.split(' '))"
   ]
  },
  {
   "cell_type": "markdown",
   "metadata": {
    "papermill": {
     "duration": 8.840406,
     "end_time": "2021-03-11T09:48:01.913572",
     "exception": false,
     "start_time": "2021-03-11T09:47:53.073166",
     "status": "completed"
    },
    "tags": []
   },
   "source": [
    "# Evaluation on the Validation Set\n",
    "\n",
    "Let's try to translate some sentences from the validation set and see how well the model is:"
   ]
  },
  {
   "cell_type": "code",
   "execution_count": 15,
   "metadata": {
    "execution": {
     "iopub.execute_input": "2021-03-11T09:48:19.772965Z",
     "iopub.status.busy": "2021-03-11T09:48:19.771329Z",
     "iopub.status.idle": "2021-03-11T09:48:19.773563Z",
     "shell.execute_reply": "2021-03-11T09:48:19.773950Z"
    },
    "papermill": {
     "duration": 8.963282,
     "end_time": "2021-03-11T09:48:19.774082",
     "exception": false,
     "start_time": "2021-03-11T09:48:10.810800",
     "status": "completed"
    },
    "tags": []
   },
   "outputs": [],
   "source": [
    "def preprocess_sequence(seq, language):\n",
    "    sentence = language.sequences_to_texts([seq.numpy()])[0]\n",
    "    sentence = sentence.split(' ')\n",
    "    sentence = [s for s in sentence if s != '<sos>' and s != '<eos>' and s != '<unk>']\n",
    "    return ' '.join(sentence)"
   ]
  },
  {
   "cell_type": "code",
   "execution_count": 16,
   "metadata": {
    "execution": {
     "iopub.execute_input": "2021-03-11T09:48:38.124991Z",
     "iopub.status.busy": "2021-03-11T09:48:38.124097Z",
     "iopub.status.idle": "2021-03-11T09:48:39.581403Z",
     "shell.execute_reply": "2021-03-11T09:48:39.580882Z"
    },
    "papermill": {
     "duration": 10.481676,
     "end_time": "2021-03-11T09:48:39.581546",
     "exception": false,
     "start_time": "2021-03-11T09:48:29.099870",
     "status": "completed"
    },
    "tags": []
   },
   "outputs": [
    {
     "name": "stdout",
     "output_type": "stream",
     "text": [
      "Input:          <sos> je ne peux pas le confirmer . <eos>\n",
      "Prediction:     i can t confirm that . <eos> \n",
      "Ground truth:   i can t confirm this .\n",
      "\n",
      "Input:          <sos> ce fut propre . <eos>\n",
      "Prediction:     it was clean . <eos> \n",
      "Ground truth:   it was clean .\n",
      "\n",
      "Input:          <sos> tu ne peux pas me laisser la toute seule . <eos>\n",
      "Prediction:     you can t let me here all this . <eos> \n",
      "Ground truth:   you can t leave me here alone .\n",
      "\n",
      "Input:          <sos> je suis sur que vous reussirez . <eos>\n",
      "Prediction:     i m sure you ll succeed . <eos> \n",
      "Ground truth:   i m sure you ll succeed .\n",
      "\n",
      "Input:          <sos> je crains de ne pouvoir t aider . <eos>\n",
      "Prediction:     i m afraid i can t help you . <eos> \n",
      "Ground truth:   i m afraid i can t help you .\n",
      "\n",
      "Input:          <sos> parlez un peu plus lentement , s il vous plait . <eos>\n",
      "Prediction:     please speak a little slower . <eos> \n",
      "Ground truth:   please speak a little slower .\n",
      "\n",
      "Input:          <sos> tu etais en retard au travail . <eos>\n",
      "Prediction:     you were late at work . <eos> \n",
      "Ground truth:   you were late for work .\n",
      "\n",
      "Input:          <sos> il a ete blesse dans un cambriolage . <eos>\n",
      "Prediction:     he was wounded in a burglary . <eos> \n",
      "Ground truth:   he was wounded in a burglary .\n",
      "\n",
      "Input:          <sos> tom sait que ceci est la verite . <eos>\n",
      "Prediction:     tom knows this is the truth is . <eos> \n",
      "Ground truth:   tom knows this is the truth .\n",
      "\n",
      "Input:          <sos> nous avons trouve ce garcon plonge dans un profond sommeil . <eos>\n",
      "Prediction:     we found the boy in the top of a brick . <eos> \n",
      "Ground truth:   we found the boy sound asleep .\n",
      "\n",
      "Input:          <sos> c est tout ce que je peux promettre . <eos>\n",
      "Prediction:     that s all i can promise . <eos> \n",
      "Ground truth:   that s all i can promise .\n",
      "\n",
      "Input:          <sos> blancs ne sont pas tous les cygnes . <eos>\n",
      "Prediction:     neither are all the books . <eos> \n",
      "Ground truth:   not all swans are white .\n",
      "\n",
      "Input:          <sos> as tu entendu ce que j ai dit ? <eos>\n",
      "Prediction:     have you hear what i said ? <eos> \n",
      "Ground truth:   did you hear what i said ?\n",
      "\n",
      "Input:          <sos> je ne peux pas etre d accord avec votre proposition . <eos>\n",
      "Prediction:     i can t agree with your proposal . <eos> \n",
      "Ground truth:   i cannot agree to your proposal .\n",
      "\n",
      "Input:          <sos> soyez polie mais ferme . <eos>\n",
      "Prediction:     be polite , but firm . <eos> \n",
      "Ground truth:   be polite , but firm .\n",
      "\n",
      "Input:          <sos> j avais oublie cela . <eos>\n",
      "Prediction:     i had forgotten that . <eos> \n",
      "Ground truth:   i d forgotten that .\n",
      "\n",
      "Input:          <sos> tom est sur le campus . <eos>\n",
      "Prediction:     tom is on campus . <eos> \n",
      "Ground truth:   tom is on campus .\n",
      "\n",
      "Input:          <sos> ta petite amie parle francais ? <eos>\n",
      "Prediction:     is your girlfriend speak french ? <eos> \n",
      "Ground truth:   does your girlfriend speak french ?\n",
      "\n",
      "Input:          <sos> j aimerais toutes vous souhaiter la bienvenue a bord . <eos>\n",
      "Prediction:     i d like to stay up to the appropriate . <eos> \n",
      "Ground truth:   i d like to welcome you all aboard .\n",
      "\n",
      "Input:          <sos> je suis assez grande pour le faire moi meme . <eos>\n",
      "Prediction:     i m pretty big for me to myself . <eos> \n",
      "Ground truth:   i m old enough to do that by myself .\n",
      "\n"
     ]
    }
   ],
   "source": [
    "for inp_batch, targ_batch in train_dataset.take(20):\n",
    "    for inp, targ in zip(inp_batch, targ_batch):\n",
    "        sentence = preprocess_sequence(inp, inp_lang)\n",
    "        ground_truth = preprocess_sequence(targ, targ_lang)\n",
    "        translate(sentence, ground_truth, plot_weights=False)\n",
    "        print()\n",
    "        break"
   ]
  },
  {
   "cell_type": "markdown",
   "metadata": {
    "papermill": {
     "duration": 9.197806,
     "end_time": "2021-03-11T09:48:57.875502",
     "exception": false,
     "start_time": "2021-03-11T09:48:48.677696",
     "status": "completed"
    },
    "tags": []
   },
   "source": [
    "# Translation with Attention Plots"
   ]
  },
  {
   "cell_type": "code",
   "execution_count": 17,
   "metadata": {
    "execution": {
     "iopub.execute_input": "2021-03-11T09:49:15.701174Z",
     "iopub.status.busy": "2021-03-11T09:49:15.700396Z",
     "iopub.status.idle": "2021-03-11T09:49:16.031353Z",
     "shell.execute_reply": "2021-03-11T09:49:16.030518Z"
    },
    "papermill": {
     "duration": 9.165981,
     "end_time": "2021-03-11T09:49:16.031490",
     "exception": false,
     "start_time": "2021-03-11T09:49:06.865509",
     "status": "completed"
    },
    "tags": []
   },
   "outputs": [
    {
     "name": "stdout",
     "output_type": "stream",
     "text": [
      "Input:          <sos> sais tu traduire cette phrase ? <eos>\n",
      "Prediction:     do you know how hard work ? <eos> \n"
     ]
    },
    {
     "name": "stderr",
     "output_type": "stream",
     "text": [
      "/opt/conda/lib/python3.7/site-packages/ipykernel_launcher.py:7: UserWarning: FixedFormatter should only be used together with FixedLocator\n",
      "  import sys\n",
      "/opt/conda/lib/python3.7/site-packages/ipykernel_launcher.py:8: UserWarning: FixedFormatter should only be used together with FixedLocator\n",
      "  \n"
     ]
    },
    {
     "data": {
      "image/png": "[encoded data removed]",
      "text/plain": [
       "<Figure size 720x720 with 1 Axes>"
      ]
     },
     "metadata": {
      "needs_background": "light"
     },
     "output_type": "display_data"
    }
   ],
   "source": [
    "translate('sais-tu traduire cette phrase?')"
   ]
  },
  {
   "cell_type": "code",
   "execution_count": 18,
   "metadata": {
    "execution": {
     "iopub.execute_input": "2021-03-11T09:49:34.661131Z",
     "iopub.status.busy": "2021-03-11T09:49:34.660289Z",
     "iopub.status.idle": "2021-03-11T09:49:34.909561Z",
     "shell.execute_reply": "2021-03-11T09:49:34.909981Z"
    },
    "papermill": {
     "duration": 9.247662,
     "end_time": "2021-03-11T09:49:34.910128",
     "exception": false,
     "start_time": "2021-03-11T09:49:25.662466",
     "status": "completed"
    },
    "tags": []
   },
   "outputs": [
    {
     "name": "stdout",
     "output_type": "stream",
     "text": [
      "Input:          <sos> vous pouvez expliquer encore une fois ? <eos>\n",
      "Prediction:     can you hear anything like a time ? <eos> \n"
     ]
    },
    {
     "name": "stderr",
     "output_type": "stream",
     "text": [
      "/opt/conda/lib/python3.7/site-packages/ipykernel_launcher.py:7: UserWarning: FixedFormatter should only be used together with FixedLocator\n",
      "  import sys\n",
      "/opt/conda/lib/python3.7/site-packages/ipykernel_launcher.py:8: UserWarning: FixedFormatter should only be used together with FixedLocator\n",
      "  \n"
     ]
    },
    {
     "data": {
      "image/png": "[encoded data removed]",
      "text/plain": [
       "<Figure size 720x720 with 1 Axes>"
      ]
     },
     "metadata": {
      "needs_background": "light"
     },
     "output_type": "display_data"
    }
   ],
   "source": [
    "translate('Vous pouvez expliquer encore une fois?')"
   ]
  },
  {
   "cell_type": "code",
   "execution_count": 19,
   "metadata": {
    "execution": {
     "iopub.execute_input": "2021-03-11T09:49:52.495439Z",
     "iopub.status.busy": "2021-03-11T09:49:52.494595Z",
     "iopub.status.idle": "2021-03-11T09:49:52.756027Z",
     "shell.execute_reply": "2021-03-11T09:49:52.755207Z"
    },
    "papermill": {
     "duration": 8.880075,
     "end_time": "2021-03-11T09:49:52.756145",
     "exception": false,
     "start_time": "2021-03-11T09:49:43.876070",
     "status": "completed"
    },
    "tags": []
   },
   "outputs": [
    {
     "name": "stdout",
     "output_type": "stream",
     "text": [
      "Input:          <sos> traduction automatique neuronale avec attention luong . <eos>\n",
      "Prediction:     above a moat surrounds the world run over . <eos> \n"
     ]
    },
    {
     "name": "stderr",
     "output_type": "stream",
     "text": [
      "/opt/conda/lib/python3.7/site-packages/ipykernel_launcher.py:7: UserWarning: FixedFormatter should only be used together with FixedLocator\n",
      "  import sys\n",
      "/opt/conda/lib/python3.7/site-packages/ipykernel_launcher.py:8: UserWarning: FixedFormatter should only be used together with FixedLocator\n",
      "  \n"
     ]
    },
    {
     "data": {
      "image/png": "[encoded data removed]",
      "text/plain": [
       "<Figure size 720x720 with 1 Axes>"
      ]
     },
     "metadata": {
      "needs_background": "light"
     },
     "output_type": "display_data"
    }
   ],
   "source": [
    "translate('Traduction automatique neuronale avec attention luong .')"
   ]
  },
  {
   "cell_type": "markdown",
   "metadata": {
    "id": "_vgYjTSNKD_x",
    "papermill": {
     "duration": 8.90143,
     "end_time": "2021-03-11T09:50:11.185573",
     "exception": false,
     "start_time": "2021-03-11T09:50:02.284143",
     "status": "completed"
    },
    "tags": []
   },
   "source": [
    "# TODO\n",
    "\n",
    "Their are few things to do to improve this model:\n",
    "\n",
    "* implement an accuracy function so that we can have an idea how well the model is doing.\n",
    "\n",
    "* the decoder output a probabilty for each word in the vocabilary (14410), this slow down training terribly. Instead, we can output a probability for a random sample of words (containing the correct word) using tf.nn.sampled_softmax_loss() function.\n",
    "\n",
    "* Make a nice interface so that users can play with the model.\n",
    "\n",
    "# References\n",
    "\n",
    "* [Neural machine translation with attention](https://www.tensorflow.org/tutorials/text/nmt_with_attention)"
   ]
  }
 ],
 "metadata": {
  "kernelspec": {
   "display_name": "Python 3",
   "language": "python",
   "name": "python3"
  },
  "language_info": {
   "codemirror_mode": {
    "name": "ipython",
    "version": 3
   },
   "file_extension": ".py",
   "mimetype": "text/x-python",
   "name": "python",
   "nbconvert_exporter": "python",
   "pygments_lexer": "ipython3",
   "version": "3.7.9"
  },
  "papermill": {
   "default_parameters": {},
   "duration": 12142.755146,
   "end_time": "2021-03-11T09:50:26.000706",
   "environment_variables": {},
   "exception": null,
   "input_path": "__notebook__.ipynb",
   "output_path": "__notebook__.ipynb",
   "parameters": {},
   "start_time": "2021-03-11T06:28:03.245560",
   "version": "2.2.2"
  }
 },
 "nbformat": 4,
 "nbformat_minor": 4
}
