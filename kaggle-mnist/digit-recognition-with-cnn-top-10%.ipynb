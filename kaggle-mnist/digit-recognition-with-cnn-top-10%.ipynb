{
 "cells": [
  {
   "cell_type": "markdown",
   "metadata": {
    "papermill": {
     "duration": 0.010654,
     "end_time": "2021-02-14T12:57:52.038307",
     "exception": false,
     "start_time": "2021-02-14T12:57:52.027653",
     "status": "completed"
    },
    "tags": []
   },
   "source": [
    "In this notebook, I am going to try to build a model that reaches above 0.995 scores on kaggle's leaderboard (top 10%). To do so, we first need to pick the best CNN architecture using RandomizedSearchCV. Also we have to try data augmentation, dropout, and use a learning schedule."
   ]
  },
  {
   "cell_type": "markdown",
   "metadata": {
    "papermill": {
     "duration": 0.009308,
     "end_time": "2021-02-14T12:57:52.057264",
     "exception": false,
     "start_time": "2021-02-14T12:57:52.047956",
     "status": "completed"
    },
    "tags": []
   },
   "source": [
    "# Import libraries"
   ]
  },
  {
   "cell_type": "code",
   "execution_count": 1,
   "metadata": {
    "_cell_guid": "b1076dfc-b9ad-4769-8c92-a6c4dae69d19",
    "_uuid": "8f2839f25d086af736a60e9eeb907d3b93b6e0e5",
    "execution": {
     "iopub.execute_input": "2021-02-14T12:57:52.082603Z",
     "iopub.status.busy": "2021-02-14T12:57:52.081913Z",
     "iopub.status.idle": "2021-02-14T12:57:58.379503Z",
     "shell.execute_reply": "2021-02-14T12:57:58.378345Z"
    },
    "papermill": {
     "duration": 6.312901,
     "end_time": "2021-02-14T12:57:58.379718",
     "exception": false,
     "start_time": "2021-02-14T12:57:52.066817",
     "status": "completed"
    },
    "tags": []
   },
   "outputs": [],
   "source": [
    "import pandas as pd\n",
    "import numpy as np\n",
    "from sklearn.model_selection import train_test_split, RandomizedSearchCV\n",
    "\n",
    "from keras.models import Sequential\n",
    "from keras.layers import InputLayer, Conv2D, MaxPool2D, Flatten, Dense, Dropout\n",
    "from keras.optimizers import Adam\n",
    "from keras.preprocessing.image import ImageDataGenerator\n",
    "from keras.utils import to_categorical\n",
    "from keras.wrappers.scikit_learn import KerasClassifier\n",
    "from keras.callbacks import EarlyStopping\n",
    "import keras"
   ]
  },
  {
   "cell_type": "markdown",
   "metadata": {
    "papermill": {
     "duration": 0.009654,
     "end_time": "2021-02-14T12:57:58.399795",
     "exception": false,
     "start_time": "2021-02-14T12:57:58.390141",
     "status": "completed"
    },
    "tags": []
   },
   "source": [
    "# Loading, preprocessing, and split the data"
   ]
  },
  {
   "cell_type": "code",
   "execution_count": 2,
   "metadata": {
    "execution": {
     "iopub.execute_input": "2021-02-14T12:57:58.425197Z",
     "iopub.status.busy": "2021-02-14T12:57:58.424662Z",
     "iopub.status.idle": "2021-02-14T12:58:03.278473Z",
     "shell.execute_reply": "2021-02-14T12:58:03.277381Z"
    },
    "papermill": {
     "duration": 4.869019,
     "end_time": "2021-02-14T12:58:03.278628",
     "exception": false,
     "start_time": "2021-02-14T12:57:58.409609",
     "status": "completed"
    },
    "tags": []
   },
   "outputs": [],
   "source": [
    "train_set = pd.read_csv(\"../input/digit-recognizer/train.csv\")\n",
    "test_set = pd.read_csv(\"../input/digit-recognizer/test.csv\")"
   ]
  },
  {
   "cell_type": "code",
   "execution_count": 3,
   "metadata": {
    "execution": {
     "iopub.execute_input": "2021-02-14T12:58:03.388421Z",
     "iopub.status.busy": "2021-02-14T12:58:03.309356Z",
     "iopub.status.idle": "2021-02-14T12:58:03.928386Z",
     "shell.execute_reply": "2021-02-14T12:58:03.927325Z"
    },
    "papermill": {
     "duration": 0.639551,
     "end_time": "2021-02-14T12:58:03.928532",
     "exception": false,
     "start_time": "2021-02-14T12:58:03.288981",
     "status": "completed"
    },
    "tags": []
   },
   "outputs": [],
   "source": [
    "X_train = train_set.drop(\"label\", axis=1)\n",
    "y_train = train_set[\"label\"]\n",
    "\n",
    "X_train = X_train / 255.\n",
    "X_test = test_set / 255.\n",
    "\n",
    "X_train = X_train.values.reshape(-1, 28, 28, 1)\n",
    "X_test = X_test.values.reshape(-1, 28, 28, 1)\n",
    "\n",
    "# label encoded to one hot vectors\n",
    "y_train = to_categorical(y_train, num_classes=10)\n",
    "\n",
    "X_train, X_valid, y_train, y_valid = train_test_split(X_train, y_train, test_size=0.1, random_state=42)"
   ]
  },
  {
   "cell_type": "markdown",
   "metadata": {
    "papermill": {
     "duration": 0.010786,
     "end_time": "2021-02-14T12:58:03.949629",
     "exception": false,
     "start_time": "2021-02-14T12:58:03.938843",
     "status": "completed"
    },
    "tags": []
   },
   "source": [
    "# Build the model"
   ]
  },
  {
   "cell_type": "markdown",
   "metadata": {
    "papermill": {
     "duration": 0.00993,
     "end_time": "2021-02-14T12:58:03.969462",
     "exception": false,
     "start_time": "2021-02-14T12:58:03.959532",
     "status": "completed"
    },
    "tags": []
   },
   "source": [
    "A typical CNN architecture generally stack few convolutional layers and pooling layer, then repeat the operation several times.\n",
    "Let's start by creating a function that build and compile our keras model."
   ]
  },
  {
   "cell_type": "code",
   "execution_count": 4,
   "metadata": {
    "execution": {
     "iopub.execute_input": "2021-02-14T12:58:03.997948Z",
     "iopub.status.busy": "2021-02-14T12:58:03.996320Z",
     "iopub.status.idle": "2021-02-14T12:58:03.998580Z",
     "shell.execute_reply": "2021-02-14T12:58:03.998972Z"
    },
    "papermill": {
     "duration": 0.019832,
     "end_time": "2021-02-14T12:58:03.999106",
     "exception": false,
     "start_time": "2021-02-14T12:58:03.979274",
     "status": "completed"
    },
    "tags": []
   },
   "outputs": [],
   "source": [
    "def build_model(hidden_layers=1, feature_maps=16, kernel_size=3, n_neurons=32, dropout=0.1):\n",
    "    model = Sequential([])\n",
    "    model.add(InputLayer(input_shape=(28, 28, 1)))\n",
    "    for n in range(hidden_layers):\n",
    "        model.add(Conv2D((n + 1) * feature_maps, kernel_size, activation=\"relu\", padding=\"same\"))\n",
    "        model.add(Conv2D((n + 1) * feature_maps, kernel_size, activation=\"relu\", padding=\"same\"))\n",
    "        model.add(MaxPool2D())\n",
    "        model.add(Dropout(dropout))   \n",
    "    model.add(Flatten())\n",
    "    model.add(Dense(n_neurons))\n",
    "    model.add(Dropout(dropout))\n",
    "    model.add(Dense(10, activation=\"softmax\"))\n",
    "    model.compile(optimizer=\"adam\", loss=\"categorical_crossentropy\", metrics=[\"accuracy\"])\n",
    "    return model"
   ]
  },
  {
   "cell_type": "markdown",
   "metadata": {
    "papermill": {
     "duration": 0.010045,
     "end_time": "2021-02-14T12:58:04.019572",
     "exception": false,
     "start_time": "2021-02-14T12:58:04.009527",
     "status": "completed"
    },
    "tags": []
   },
   "source": [
    "We will use randomized search rather than grid search because there are many hyperparameters and the model may perform slightly better so it's not worth the computational cost.\n",
    "\n",
    "In order to do RandomizedSearchCV we need to wrap our keras model using a KerasClassifier class."
   ]
  },
  {
   "cell_type": "code",
   "execution_count": 5,
   "metadata": {
    "execution": {
     "iopub.execute_input": "2021-02-14T12:58:04.045824Z",
     "iopub.status.busy": "2021-02-14T12:58:04.045333Z",
     "iopub.status.idle": "2021-02-14T13:20:18.296134Z",
     "shell.execute_reply": "2021-02-14T13:20:18.296568Z"
    },
    "papermill": {
     "duration": 1334.266653,
     "end_time": "2021-02-14T13:20:18.296741",
     "exception": false,
     "start_time": "2021-02-14T12:58:04.030088",
     "status": "completed"
    },
    "tags": []
   },
   "outputs": [
    {
     "name": "stdout",
     "output_type": "stream",
     "text": [
      "Fitting 3 folds for each of 15 candidates, totalling 45 fits\n",
      "[CV] n_neurons=64, hidden_layers=2, feature_maps=16, dropout=0.3 .....\n"
     ]
    },
    {
     "name": "stderr",
     "output_type": "stream",
     "text": [
      "[Parallel(n_jobs=1)]: Using backend SequentialBackend with 1 concurrent workers.\n"
     ]
    },
    {
     "name": "stdout",
     "output_type": "stream",
     "text": [
      "394/394 [==============================] - 1s 2ms/step - loss: 0.0308 - accuracy: 0.9908\n",
      "[CV]  n_neurons=64, hidden_layers=2, feature_maps=16, dropout=0.3, total=  31.1s\n",
      "[CV] n_neurons=64, hidden_layers=2, feature_maps=16, dropout=0.3 .....\n"
     ]
    },
    {
     "name": "stderr",
     "output_type": "stream",
     "text": [
      "[Parallel(n_jobs=1)]: Done   1 out of   1 | elapsed:   31.1s remaining:    0.0s\n"
     ]
    },
    {
     "name": "stdout",
     "output_type": "stream",
     "text": [
      "394/394 [==============================] - 1s 2ms/step - loss: 0.0370 - accuracy: 0.9891\n",
      "[CV]  n_neurons=64, hidden_layers=2, feature_maps=16, dropout=0.3, total=  27.0s\n",
      "[CV] n_neurons=64, hidden_layers=2, feature_maps=16, dropout=0.3 .....\n",
      "394/394 [==============================] - 1s 2ms/step - loss: 0.0381 - accuracy: 0.9898\n",
      "[CV]  n_neurons=64, hidden_layers=2, feature_maps=16, dropout=0.3, total=  28.3s\n",
      "[CV] n_neurons=64, hidden_layers=1, feature_maps=16, dropout=0.2 .....\n",
      "394/394 [==============================] - 1s 3ms/step - loss: 0.0582 - accuracy: 0.9852\n",
      "[CV]  n_neurons=64, hidden_layers=1, feature_maps=16, dropout=0.2, total=  22.3s\n",
      "[CV] n_neurons=64, hidden_layers=1, feature_maps=16, dropout=0.2 .....\n",
      "394/394 [==============================] - 1s 2ms/step - loss: 0.0655 - accuracy: 0.9857\n",
      "[CV]  n_neurons=64, hidden_layers=1, feature_maps=16, dropout=0.2, total=  21.0s\n",
      "[CV] n_neurons=64, hidden_layers=1, feature_maps=16, dropout=0.2 .....\n",
      "394/394 [==============================] - 1s 3ms/step - loss: 0.0589 - accuracy: 0.9843\n",
      "[CV]  n_neurons=64, hidden_layers=1, feature_maps=16, dropout=0.2, total=  17.3s\n",
      "[CV] n_neurons=128, hidden_layers=2, feature_maps=32, dropout=0.2 ....\n",
      "394/394 [==============================] - 1s 3ms/step - loss: 0.0351 - accuracy: 0.9907\n",
      "[CV]  n_neurons=128, hidden_layers=2, feature_maps=32, dropout=0.2, total=  24.0s\n",
      "[CV] n_neurons=128, hidden_layers=2, feature_maps=32, dropout=0.2 ....\n",
      "394/394 [==============================] - 1s 3ms/step - loss: 0.0640 - accuracy: 0.9871\n",
      "[CV]  n_neurons=128, hidden_layers=2, feature_maps=32, dropout=0.2, total=  25.5s\n",
      "[CV] n_neurons=128, hidden_layers=2, feature_maps=32, dropout=0.2 ....\n",
      "394/394 [==============================] - 2s 3ms/step - loss: 0.0461 - accuracy: 0.9904\n",
      "[CV]  n_neurons=128, hidden_layers=2, feature_maps=32, dropout=0.2, total=  24.6s\n",
      "[CV] n_neurons=128, hidden_layers=2, feature_maps=16, dropout=0.3 ....\n",
      "394/394 [==============================] - 1s 2ms/step - loss: 0.0383 - accuracy: 0.9886\n",
      "[CV]  n_neurons=128, hidden_layers=2, feature_maps=16, dropout=0.3, total=  22.0s\n",
      "[CV] n_neurons=128, hidden_layers=2, feature_maps=16, dropout=0.3 ....\n",
      "394/394 [==============================] - 1s 3ms/step - loss: 0.0372 - accuracy: 0.9894\n",
      "[CV]  n_neurons=128, hidden_layers=2, feature_maps=16, dropout=0.3, total=  30.6s\n",
      "[CV] n_neurons=128, hidden_layers=2, feature_maps=16, dropout=0.3 ....\n",
      "394/394 [==============================] - 1s 3ms/step - loss: 0.0401 - accuracy: 0.9904\n",
      "[CV]  n_neurons=128, hidden_layers=2, feature_maps=16, dropout=0.3, total=  37.9s\n",
      "[CV] n_neurons=64, hidden_layers=1, feature_maps=32, dropout=0.2 .....\n",
      "394/394 [==============================] - 1s 2ms/step - loss: 0.0668 - accuracy: 0.9853\n",
      "[CV]  n_neurons=64, hidden_layers=1, feature_maps=32, dropout=0.2, total=  20.3s\n",
      "[CV] n_neurons=64, hidden_layers=1, feature_maps=32, dropout=0.2 .....\n",
      "394/394 [==============================] - 1s 2ms/step - loss: 0.0687 - accuracy: 0.9844\n",
      "[CV]  n_neurons=64, hidden_layers=1, feature_maps=32, dropout=0.2, total=  19.8s\n",
      "[CV] n_neurons=64, hidden_layers=1, feature_maps=32, dropout=0.2 .....\n",
      "394/394 [==============================] - 1s 2ms/step - loss: 0.0875 - accuracy: 0.9849\n",
      "[CV]  n_neurons=64, hidden_layers=1, feature_maps=32, dropout=0.2, total=  21.8s\n",
      "[CV] n_neurons=128, hidden_layers=1, feature_maps=16, dropout=0.3 ....\n",
      "394/394 [==============================] - 1s 3ms/step - loss: 0.0561 - accuracy: 0.9839\n",
      "[CV]  n_neurons=128, hidden_layers=1, feature_maps=16, dropout=0.3, total=  15.7s\n",
      "[CV] n_neurons=128, hidden_layers=1, feature_maps=16, dropout=0.3 ....\n",
      "394/394 [==============================] - 1s 2ms/step - loss: 0.0583 - accuracy: 0.9844\n",
      "[CV]  n_neurons=128, hidden_layers=1, feature_maps=16, dropout=0.3, total=  18.4s\n",
      "[CV] n_neurons=128, hidden_layers=1, feature_maps=16, dropout=0.3 ....\n",
      "394/394 [==============================] - 1s 2ms/step - loss: 0.0675 - accuracy: 0.9837\n",
      "[CV]  n_neurons=128, hidden_layers=1, feature_maps=16, dropout=0.3, total=  22.1s\n",
      "[CV] n_neurons=128, hidden_layers=1, feature_maps=24, dropout=0.2 ....\n",
      "394/394 [==============================] - 1s 3ms/step - loss: 0.0619 - accuracy: 0.9847\n",
      "[CV]  n_neurons=128, hidden_layers=1, feature_maps=24, dropout=0.2, total=  14.9s\n",
      "[CV] n_neurons=128, hidden_layers=1, feature_maps=24, dropout=0.2 ....\n",
      "394/394 [==============================] - 1s 2ms/step - loss: 0.0609 - accuracy: 0.9853\n",
      "[CV]  n_neurons=128, hidden_layers=1, feature_maps=24, dropout=0.2, total=  14.9s\n",
      "[CV] n_neurons=128, hidden_layers=1, feature_maps=24, dropout=0.2 ....\n",
      "394/394 [==============================] - 1s 2ms/step - loss: 0.0812 - accuracy: 0.9812\n",
      "[CV]  n_neurons=128, hidden_layers=1, feature_maps=24, dropout=0.2, total=  15.8s\n",
      "[CV] n_neurons=128, hidden_layers=3, feature_maps=24, dropout=0.4 ....\n",
      "394/394 [==============================] - 1s 3ms/step - loss: 0.0265 - accuracy: 0.9923\n",
      "[CV]  n_neurons=128, hidden_layers=3, feature_maps=24, dropout=0.4, total=  36.1s\n",
      "[CV] n_neurons=128, hidden_layers=3, feature_maps=24, dropout=0.4 ....\n",
      "394/394 [==============================] - 1s 3ms/step - loss: 0.0377 - accuracy: 0.9906\n",
      "[CV]  n_neurons=128, hidden_layers=3, feature_maps=24, dropout=0.4, total=  50.0s\n",
      "[CV] n_neurons=128, hidden_layers=3, feature_maps=24, dropout=0.4 ....\n",
      "394/394 [==============================] - 1s 3ms/step - loss: 0.0333 - accuracy: 0.9918\n",
      "[CV]  n_neurons=128, hidden_layers=3, feature_maps=24, dropout=0.4, total=  36.0s\n",
      "[CV] n_neurons=128, hidden_layers=2, feature_maps=16, dropout=0.2 ....\n",
      "394/394 [==============================] - 1s 3ms/step - loss: 0.0370 - accuracy: 0.9907\n",
      "[CV]  n_neurons=128, hidden_layers=2, feature_maps=16, dropout=0.2, total=  33.5s\n",
      "[CV] n_neurons=128, hidden_layers=2, feature_maps=16, dropout=0.2 ....\n",
      "394/394 [==============================] - 1s 3ms/step - loss: 0.0408 - accuracy: 0.9902\n",
      "[CV]  n_neurons=128, hidden_layers=2, feature_maps=16, dropout=0.2, total=  30.5s\n",
      "[CV] n_neurons=128, hidden_layers=2, feature_maps=16, dropout=0.2 ....\n",
      "394/394 [==============================] - 1s 2ms/step - loss: 0.0466 - accuracy: 0.9879\n",
      "[CV]  n_neurons=128, hidden_layers=2, feature_maps=16, dropout=0.2, total=  28.2s\n",
      "[CV] n_neurons=64, hidden_layers=2, feature_maps=24, dropout=0.2 .....\n",
      "394/394 [==============================] - 1s 3ms/step - loss: 0.0394 - accuracy: 0.9890\n",
      "[CV]  n_neurons=64, hidden_layers=2, feature_maps=24, dropout=0.2, total=  27.2s\n",
      "[CV] n_neurons=64, hidden_layers=2, feature_maps=24, dropout=0.2 .....\n",
      "394/394 [==============================] - 1s 3ms/step - loss: 0.0392 - accuracy: 0.9906\n",
      "[CV]  n_neurons=64, hidden_layers=2, feature_maps=24, dropout=0.2, total=  27.3s\n",
      "[CV] n_neurons=64, hidden_layers=2, feature_maps=24, dropout=0.2 .....\n",
      "394/394 [==============================] - 1s 3ms/step - loss: 0.0491 - accuracy: 0.9882\n",
      "[CV]  n_neurons=64, hidden_layers=2, feature_maps=24, dropout=0.2, total=  23.2s\n",
      "[CV] n_neurons=128, hidden_layers=2, feature_maps=32, dropout=0.3 ....\n",
      "394/394 [==============================] - 1s 3ms/step - loss: 0.0346 - accuracy: 0.9910\n",
      "[CV]  n_neurons=128, hidden_layers=2, feature_maps=32, dropout=0.3, total=  23.7s\n",
      "[CV] n_neurons=128, hidden_layers=2, feature_maps=32, dropout=0.3 ....\n",
      "394/394 [==============================] - 2s 3ms/step - loss: 0.0477 - accuracy: 0.9882\n",
      "[CV]  n_neurons=128, hidden_layers=2, feature_maps=32, dropout=0.3, total=  35.0s\n",
      "[CV] n_neurons=128, hidden_layers=2, feature_maps=32, dropout=0.3 ....\n",
      "394/394 [==============================] - 1s 3ms/step - loss: 0.0374 - accuracy: 0.9906\n",
      "[CV]  n_neurons=128, hidden_layers=2, feature_maps=32, dropout=0.3, total=  25.6s\n",
      "[CV] n_neurons=64, hidden_layers=3, feature_maps=16, dropout=0.3 .....\n",
      "394/394 [==============================] - 2s 3ms/step - loss: 0.0329 - accuracy: 0.9913\n",
      "[CV]  n_neurons=64, hidden_layers=3, feature_maps=16, dropout=0.3, total=  43.7s\n",
      "[CV] n_neurons=64, hidden_layers=3, feature_maps=16, dropout=0.3 .....\n",
      "394/394 [==============================] - 1s 3ms/step - loss: 0.0378 - accuracy: 0.9906\n",
      "[CV]  n_neurons=64, hidden_layers=3, feature_maps=16, dropout=0.3, total=  40.0s\n",
      "[CV] n_neurons=64, hidden_layers=3, feature_maps=16, dropout=0.3 .....\n",
      "394/394 [==============================] - 1s 3ms/step - loss: 0.0445 - accuracy: 0.9909\n",
      "[CV]  n_neurons=64, hidden_layers=3, feature_maps=16, dropout=0.3, total=  37.3s\n",
      "[CV] n_neurons=128, hidden_layers=2, feature_maps=24, dropout=0.4 ....\n",
      "394/394 [==============================] - 1s 2ms/step - loss: 0.0288 - accuracy: 0.9911\n",
      "[CV]  n_neurons=128, hidden_layers=2, feature_maps=24, dropout=0.4, total=  20.6s\n",
      "[CV] n_neurons=128, hidden_layers=2, feature_maps=24, dropout=0.4 ....\n",
      "394/394 [==============================] - 1s 3ms/step - loss: 0.0403 - accuracy: 0.9902\n",
      "[CV]  n_neurons=128, hidden_layers=2, feature_maps=24, dropout=0.4, total=  32.7s\n",
      "[CV] n_neurons=128, hidden_layers=2, feature_maps=24, dropout=0.4 ....\n",
      "394/394 [==============================] - 1s 3ms/step - loss: 0.0321 - accuracy: 0.9916\n",
      "[CV]  n_neurons=128, hidden_layers=2, feature_maps=24, dropout=0.4, total=  38.7s\n",
      "[CV] n_neurons=256, hidden_layers=3, feature_maps=16, dropout=0.3 ....\n",
      "394/394 [==============================] - 1s 3ms/step - loss: 0.0384 - accuracy: 0.9904\n",
      "[CV]  n_neurons=256, hidden_layers=3, feature_maps=16, dropout=0.3, total=  32.6s\n",
      "[CV] n_neurons=256, hidden_layers=3, feature_maps=16, dropout=0.3 ....\n",
      "394/394 [==============================] - 1s 3ms/step - loss: 0.0362 - accuracy: 0.9911\n",
      "[CV]  n_neurons=256, hidden_layers=3, feature_maps=16, dropout=0.3, total=  31.6s\n",
      "[CV] n_neurons=256, hidden_layers=3, feature_maps=16, dropout=0.3 ....\n",
      "394/394 [==============================] - 1s 3ms/step - loss: 0.0349 - accuracy: 0.9913\n",
      "[CV]  n_neurons=256, hidden_layers=3, feature_maps=16, dropout=0.3, total=  33.3s\n",
      "[CV] n_neurons=256, hidden_layers=2, feature_maps=24, dropout=0.4 ....\n",
      "394/394 [==============================] - 1s 2ms/step - loss: 0.0476 - accuracy: 0.9867\n",
      "[CV]  n_neurons=256, hidden_layers=2, feature_maps=24, dropout=0.4, total=  28.7s\n",
      "[CV] n_neurons=256, hidden_layers=2, feature_maps=24, dropout=0.4 ....\n",
      "394/394 [==============================] - 1s 3ms/step - loss: 0.0360 - accuracy: 0.9904\n",
      "[CV]  n_neurons=256, hidden_layers=2, feature_maps=24, dropout=0.4, total=  31.9s\n",
      "[CV] n_neurons=256, hidden_layers=2, feature_maps=24, dropout=0.4 ....\n",
      "394/394 [==============================] - 1s 3ms/step - loss: 0.0379 - accuracy: 0.9919\n",
      "[CV]  n_neurons=256, hidden_layers=2, feature_maps=24, dropout=0.4, total=  41.2s\n"
     ]
    },
    {
     "name": "stderr",
     "output_type": "stream",
     "text": [
      "[Parallel(n_jobs=1)]: Done  45 out of  45 | elapsed: 21.1min finished\n"
     ]
    },
    {
     "data": {
      "text/plain": [
       "RandomizedSearchCV(cv=3,\n",
       "                   estimator=<tensorflow.python.keras.wrappers.scikit_learn.KerasClassifier object at 0x7eff9ca1c250>,\n",
       "                   n_iter=15,\n",
       "                   param_distributions={'dropout': [0.2, 0.3, 0.4],\n",
       "                                        'feature_maps': [16, 24, 32],\n",
       "                                        'hidden_layers': [1, 2, 3],\n",
       "                                        'n_neurons': [64, 128, 256]},\n",
       "                   verbose=2)"
      ]
     },
     "execution_count": 5,
     "metadata": {},
     "output_type": "execute_result"
    }
   ],
   "source": [
    "keras.backend.clear_session()\n",
    "np.random.seed(42)\n",
    "\n",
    "keras_clf = KerasClassifier(build_model)\n",
    "\n",
    "params = {\n",
    "    \"hidden_layers\": [1, 2, 3],\n",
    "    \"feature_maps\": [16, 24, 32],\n",
    "    \"n_neurons\": [64, 128, 256],\n",
    "    \"dropout\": [0.2, 0.3, 0.4]\n",
    "}\n",
    "batch_size = 64\n",
    "\n",
    "search_cv = RandomizedSearchCV(keras_clf, params, n_iter=15, cv=3, verbose=2)\n",
    "search_cv.fit(X_train, y_train, epochs=30,\n",
    "              validation_data=(X_valid, y_valid),\n",
    "              callbacks=EarlyStopping(patience=7),\n",
    "              batch_size=batch_size,\n",
    "              verbose=0)"
   ]
  },
  {
   "cell_type": "code",
   "execution_count": 6,
   "metadata": {
    "execution": {
     "iopub.execute_input": "2021-02-14T13:20:19.122304Z",
     "iopub.status.busy": "2021-02-14T13:20:19.121059Z",
     "iopub.status.idle": "2021-02-14T13:20:19.131660Z",
     "shell.execute_reply": "2021-02-14T13:20:19.132090Z"
    },
    "papermill": {
     "duration": 0.381959,
     "end_time": "2021-02-14T13:20:19.132230",
     "exception": false,
     "start_time": "2021-02-14T13:20:18.750271",
     "status": "completed"
    },
    "tags": []
   },
   "outputs": [
    {
     "name": "stdout",
     "output_type": "stream",
     "text": [
      "Model: \"sequential_45\"\n",
      "_________________________________________________________________\n",
      "Layer (type)                 Output Shape              Param #   \n",
      "=================================================================\n",
      "conv2d_174 (Conv2D)          (None, 28, 28, 24)        240       \n",
      "_________________________________________________________________\n",
      "conv2d_175 (Conv2D)          (None, 28, 28, 24)        5208      \n",
      "_________________________________________________________________\n",
      "max_pooling2d_87 (MaxPooling (None, 14, 14, 24)        0         \n",
      "_________________________________________________________________\n",
      "dropout_132 (Dropout)        (None, 14, 14, 24)        0         \n",
      "_________________________________________________________________\n",
      "conv2d_176 (Conv2D)          (None, 14, 14, 48)        10416     \n",
      "_________________________________________________________________\n",
      "conv2d_177 (Conv2D)          (None, 14, 14, 48)        20784     \n",
      "_________________________________________________________________\n",
      "max_pooling2d_88 (MaxPooling (None, 7, 7, 48)          0         \n",
      "_________________________________________________________________\n",
      "dropout_133 (Dropout)        (None, 7, 7, 48)          0         \n",
      "_________________________________________________________________\n",
      "conv2d_178 (Conv2D)          (None, 7, 7, 72)          31176     \n",
      "_________________________________________________________________\n",
      "conv2d_179 (Conv2D)          (None, 7, 7, 72)          46728     \n",
      "_________________________________________________________________\n",
      "max_pooling2d_89 (MaxPooling (None, 3, 3, 72)          0         \n",
      "_________________________________________________________________\n",
      "dropout_134 (Dropout)        (None, 3, 3, 72)          0         \n",
      "_________________________________________________________________\n",
      "flatten_45 (Flatten)         (None, 648)               0         \n",
      "_________________________________________________________________\n",
      "dense_90 (Dense)             (None, 128)               83072     \n",
      "_________________________________________________________________\n",
      "dropout_135 (Dropout)        (None, 128)               0         \n",
      "_________________________________________________________________\n",
      "dense_91 (Dense)             (None, 10)                1290      \n",
      "=================================================================\n",
      "Total params: 198,914\n",
      "Trainable params: 198,914\n",
      "Non-trainable params: 0\n",
      "_________________________________________________________________\n"
     ]
    }
   ],
   "source": [
    "model = search_cv.best_estimator_.model\n",
    "model.summary()"
   ]
  },
  {
   "cell_type": "code",
   "execution_count": 7,
   "metadata": {
    "execution": {
     "iopub.execute_input": "2021-02-14T13:20:19.767877Z",
     "iopub.status.busy": "2021-02-14T13:20:19.767094Z",
     "iopub.status.idle": "2021-02-14T13:20:19.775643Z",
     "shell.execute_reply": "2021-02-14T13:20:19.774880Z"
    },
    "papermill": {
     "duration": 0.37127,
     "end_time": "2021-02-14T13:20:19.775859",
     "exception": false,
     "start_time": "2021-02-14T13:20:19.404589",
     "status": "completed"
    },
    "tags": []
   },
   "outputs": [
    {
     "data": {
      "text/plain": [
       "0.9915873010953268"
      ]
     },
     "execution_count": 7,
     "metadata": {},
     "output_type": "execute_result"
    }
   ],
   "source": [
    "search_cv.best_score_"
   ]
  },
  {
   "cell_type": "markdown",
   "metadata": {
    "papermill": {
     "duration": 0.458403,
     "end_time": "2021-02-14T13:20:20.673107",
     "exception": false,
     "start_time": "2021-02-14T13:20:20.214704",
     "status": "completed"
    },
    "tags": []
   },
   "source": [
    "# Data augmentation\n",
    "\n",
    "We will use the Keras' `ImageDataGenerator` class to apply on-the-fly data augmentation. Note that this class only returns the randomly transformed training data.\n",
    "To learn more about data augmentation and the Keras' `ImageDataGenerator` class please read:\n",
    "* The blog post [Keras ImageDataGenerator and Data Augmentation\n",
    "](https://www.pyimagesearch.com/2019/07/08/keras-imagedatagenerator-and-data-augmentation/)\n",
    "* This stackoverflow question: https://stackoverflow.com/questions/51677788/data-augmentation-in-pytorch"
   ]
  },
  {
   "cell_type": "code",
   "execution_count": 8,
   "metadata": {
    "execution": {
     "iopub.execute_input": "2021-02-14T13:20:21.283960Z",
     "iopub.status.busy": "2021-02-14T13:20:21.283129Z",
     "iopub.status.idle": "2021-02-14T13:23:18.076214Z",
     "shell.execute_reply": "2021-02-14T13:23:18.075712Z"
    },
    "papermill": {
     "duration": 177.072755,
     "end_time": "2021-02-14T13:23:18.076359",
     "exception": false,
     "start_time": "2021-02-14T13:20:21.003604",
     "status": "completed"
    },
    "tags": []
   },
   "outputs": [
    {
     "name": "stdout",
     "output_type": "stream",
     "text": [
      "Epoch 1/30\n",
      "591/591 [==============================] - 11s 18ms/step - loss: 0.0913 - accuracy: 0.9725 - val_loss: 0.0241 - val_accuracy: 0.9938\n",
      "Epoch 2/30\n",
      "591/591 [==============================] - 11s 18ms/step - loss: 0.0582 - accuracy: 0.9829 - val_loss: 0.0241 - val_accuracy: 0.9938\n",
      "Epoch 3/30\n",
      "591/591 [==============================] - 11s 19ms/step - loss: 0.0522 - accuracy: 0.9849 - val_loss: 0.0235 - val_accuracy: 0.9938\n",
      "Epoch 4/30\n",
      "591/591 [==============================] - 11s 18ms/step - loss: 0.0516 - accuracy: 0.9847 - val_loss: 0.0176 - val_accuracy: 0.9933\n",
      "Epoch 5/30\n",
      "591/591 [==============================] - 11s 18ms/step - loss: 0.0450 - accuracy: 0.9865 - val_loss: 0.0203 - val_accuracy: 0.9950\n",
      "Epoch 6/30\n",
      "591/591 [==============================] - 12s 20ms/step - loss: 0.0429 - accuracy: 0.9865 - val_loss: 0.0212 - val_accuracy: 0.9952\n",
      "Epoch 7/30\n",
      "591/591 [==============================] - 11s 18ms/step - loss: 0.0401 - accuracy: 0.9882 - val_loss: 0.0166 - val_accuracy: 0.9952\n",
      "Epoch 8/30\n",
      "591/591 [==============================] - 11s 18ms/step - loss: 0.0387 - accuracy: 0.9889 - val_loss: 0.0225 - val_accuracy: 0.9936\n",
      "Epoch 9/30\n",
      "591/591 [==============================] - 12s 20ms/step - loss: 0.0426 - accuracy: 0.9883 - val_loss: 0.0133 - val_accuracy: 0.9955\n",
      "Epoch 10/30\n",
      "591/591 [==============================] - 11s 18ms/step - loss: 0.0334 - accuracy: 0.9905 - val_loss: 0.0203 - val_accuracy: 0.9950\n",
      "Epoch 11/30\n",
      "591/591 [==============================] - 11s 18ms/step - loss: 0.0337 - accuracy: 0.9890 - val_loss: 0.0206 - val_accuracy: 0.9943\n",
      "Epoch 12/30\n",
      "591/591 [==============================] - 12s 20ms/step - loss: 0.0306 - accuracy: 0.9915 - val_loss: 0.0212 - val_accuracy: 0.9943\n",
      "Epoch 13/30\n",
      "591/591 [==============================] - 11s 18ms/step - loss: 0.0289 - accuracy: 0.9913 - val_loss: 0.0216 - val_accuracy: 0.9938\n",
      "Epoch 14/30\n",
      "591/591 [==============================] - 11s 18ms/step - loss: 0.0317 - accuracy: 0.9903 - val_loss: 0.0224 - val_accuracy: 0.9940\n",
      "Epoch 15/30\n",
      "591/591 [==============================] - 12s 20ms/step - loss: 0.0275 - accuracy: 0.9917 - val_loss: 0.0198 - val_accuracy: 0.9943\n",
      "Epoch 16/30\n",
      "591/591 [==============================] - 11s 18ms/step - loss: 0.0282 - accuracy: 0.9917 - val_loss: 0.0194 - val_accuracy: 0.9945\n"
     ]
    }
   ],
   "source": [
    "n_epochs = 30\n",
    "s = n_epochs * len(X_train) // batch_size # number of steps in n_epochs epochs\n",
    "learning_rate = keras.optimizers.schedules.ExponentialDecay(0.001, s, 0.1)\n",
    "\n",
    "img_generator = ImageDataGenerator(\n",
    "    rotation_range=0.1,\n",
    "    zoom_range=0.1,\n",
    "    width_shift_range=0.1, \n",
    "    height_shift_range=0.1\n",
    ")\n",
    "\n",
    "model.compile(optimizer=Adam(learning_rate), loss=\"categorical_crossentropy\", metrics=[\"accuracy\"])\n",
    "\n",
    "history = model.fit(img_generator.flow(X_train, y_train, batch_size=batch_size, seed=42),\n",
    "                   epochs=n_epochs, validation_data=(X_valid, y_valid),\n",
    "                   callbacks=[EarlyStopping(patience=7)])"
   ]
  },
  {
   "cell_type": "markdown",
   "metadata": {
    "papermill": {
     "duration": 1.092216,
     "end_time": "2021-02-14T13:23:20.223643",
     "exception": false,
     "start_time": "2021-02-14T13:23:19.131427",
     "status": "completed"
    },
    "tags": []
   },
   "source": [
    "# Ensemble Learning\n",
    "\n",
    "Here we are going to try to combine 8 CNN to have a better classifier. We predict the class that gets the most votes.\n",
    "\n",
    "Hopefully, this will give us a slightly better accuracy than our first model."
   ]
  },
  {
   "cell_type": "code",
   "execution_count": 9,
   "metadata": {
    "execution": {
     "iopub.execute_input": "2021-02-14T13:23:22.338091Z",
     "iopub.status.busy": "2021-02-14T13:23:22.337275Z",
     "iopub.status.idle": "2021-02-14T14:01:01.342004Z",
     "shell.execute_reply": "2021-02-14T14:01:01.342482Z"
    },
    "papermill": {
     "duration": 2260.067298,
     "end_time": "2021-02-14T14:01:01.342638",
     "exception": false,
     "start_time": "2021-02-14T13:23:21.275340",
     "status": "completed"
    },
    "tags": []
   },
   "outputs": [
    {
     "name": "stdout",
     "output_type": "stream",
     "text": [
      "CNN 1: Epochs=30, Train accuracy=0.99501, Validation accuracy=0.99603\n",
      "CNN 2: Epochs=30, Train accuracy=0.99549, Validation accuracy=0.99540\n",
      "CNN 3: Epochs=30, Train accuracy=0.99571, Validation accuracy=0.99556\n",
      "CNN 4: Epochs=30, Train accuracy=0.99636, Validation accuracy=0.99587\n",
      "CNN 5: Epochs=30, Train accuracy=0.99658, Validation accuracy=0.99556\n",
      "CNN 6: Epochs=30, Train accuracy=0.99650, Validation accuracy=0.99476\n",
      "CNN 7: Epochs=30, Train accuracy=0.99669, Validation accuracy=0.99524\n",
      "CNN 8: Epochs=30, Train accuracy=0.99689, Validation accuracy=0.99492\n"
     ]
    }
   ],
   "source": [
    "train_set = pd.read_csv(\"../input/digit-recognizer/train.csv\")\n",
    "test_set = pd.read_csv(\"../input/digit-recognizer/test.csv\")\n",
    "X_train = train_set.drop(\"label\", axis=1)\n",
    "y_train = train_set[\"label\"]\n",
    "X_train = X_train / 255.\n",
    "X_test = test_set / 255.\n",
    "X_train = X_train.values.reshape(-1, 28, 28, 1)\n",
    "X_test = X_test.values.reshape(-1, 28, 28, 1)\n",
    "y_train = to_categorical(y_train, num_classes=10)\n",
    "\n",
    "nets = 8\n",
    "ensemble = [search_cv.best_estimator_.model for _ in range(nets)]\n",
    "history = [0] * nets\n",
    "\n",
    "for j, clf in enumerate(ensemble):\n",
    "    X_train2, X_valid2, y_train2, y_valid2 = train_test_split(X_train, y_train, test_size=0.15, random_state=42)   \n",
    "    clf.compile(optimizer=Adam(learning_rate), loss=\"categorical_crossentropy\", metrics=[\"accuracy\"])\n",
    "    history[j] = clf.fit(img_generator.flow(X_train2, y_train2, batch_size=batch_size, seed=42),\n",
    "                         epochs=n_epochs, validation_data=(X_valid2, y_valid2), verbose=0)\n",
    "    print(\"CNN {0:d}: Epochs={1:d}, Train accuracy={2:.5f}, Validation accuracy={3:.5f}\".format(\n",
    "          j+1,n_epochs,max(history[j].history['accuracy']),max(history[j].history['val_accuracy']) ))"
   ]
  },
  {
   "cell_type": "code",
   "execution_count": 10,
   "metadata": {
    "execution": {
     "iopub.execute_input": "2021-02-14T14:01:03.526183Z",
     "iopub.status.busy": "2021-02-14T14:01:03.524989Z",
     "iopub.status.idle": "2021-02-14T14:01:12.985634Z",
     "shell.execute_reply": "2021-02-14T14:01:12.986176Z"
    },
    "papermill": {
     "duration": 10.523776,
     "end_time": "2021-02-14T14:01:12.986406",
     "exception": false,
     "start_time": "2021-02-14T14:01:02.462630",
     "status": "completed"
    },
    "tags": []
   },
   "outputs": [],
   "source": [
    "from scipy.stats import mode\n",
    "\n",
    "y_pred = np.empty([nets, len(X_test)])\n",
    "\n",
    "for clf_index, clf in enumerate(ensemble):\n",
    "    y_pred[clf_index] = np.argmax(clf.predict(X_test), axis=1)\n",
    "\n",
    "y_pred_majority_votes, n_votes = mode(y_pred, axis=0)"
   ]
  },
  {
   "cell_type": "code",
   "execution_count": 11,
   "metadata": {
    "execution": {
     "iopub.execute_input": "2021-02-14T14:01:15.269414Z",
     "iopub.status.busy": "2021-02-14T14:01:15.268842Z",
     "iopub.status.idle": "2021-02-14T14:01:15.429435Z",
     "shell.execute_reply": "2021-02-14T14:01:15.428933Z"
    },
    "papermill": {
     "duration": 1.249051,
     "end_time": "2021-02-14T14:01:15.429560",
     "exception": false,
     "start_time": "2021-02-14T14:01:14.180509",
     "status": "completed"
    },
    "tags": []
   },
   "outputs": [],
   "source": [
    "results = y_pred_majority_votes.reshape([-1]).astype(int)\n",
    "results = pd.Series(results,name=\"Label\")\n",
    "submission = pd.concat([pd.Series(range(1,28001),name = \"ImageId\"),results],axis = 1)\n",
    "submission.to_csv(\"MNIST-CNN-ENSEMBLE.csv\",index=False)"
   ]
  },
  {
   "cell_type": "markdown",
   "metadata": {
    "papermill": {
     "duration": 1.051819,
     "end_time": "2021-02-14T14:01:17.532276",
     "exception": false,
     "start_time": "2021-02-14T14:01:16.480457",
     "status": "completed"
    },
    "tags": []
   },
   "source": [
    "# References\n",
    "\n",
    "The code of this notebook was inspired by the following good kernels and tutorials:\n",
    "\n",
    "* [How to choose CNN Architecture MNIST](https://www.kaggle.com/cdeotte/how-to-choose-cnn-architecture-mnist#Experiment-1)\n",
    "* [25 Million Images! [0.99757] MNIST](https://www.kaggle.com/cdeotte/25-million-images-0-99757-mnist/data#Accuracy=99.75%-using-25-Million-Training-Images!!)\n",
    "* [Introduction to CNN Keras - 0.997 (top 6%)](https://www.kaggle.com/yassineghouzam/introduction-to-cnn-keras-0-997-top-6#3.-CNN)\n",
    "* Chapter 10 from the book Hands-on machine learning (Aurélien Géron)."
   ]
  },
  {
   "cell_type": "code",
   "execution_count": null,
   "metadata": {
    "papermill": {
     "duration": 1.054433,
     "end_time": "2021-02-14T14:01:19.638585",
     "exception": false,
     "start_time": "2021-02-14T14:01:18.584152",
     "status": "completed"
    },
    "tags": []
   },
   "outputs": [],
   "source": []
  }
 ],
 "metadata": {
  "kernelspec": {
   "display_name": "Python 3",
   "language": "python",
   "name": "python3"
  },
  "language_info": {
   "codemirror_mode": {
    "name": "ipython",
    "version": 3
   },
   "file_extension": ".py",
   "mimetype": "text/x-python",
   "name": "python",
   "nbconvert_exporter": "python",
   "pygments_lexer": "ipython3",
   "version": "3.7.9"
  },
  "papermill": {
   "default_parameters": {},
   "duration": 3817.052107,
   "end_time": "2021-02-14T14:01:24.130398",
   "environment_variables": {},
   "exception": null,
   "input_path": "__notebook__.ipynb",
   "output_path": "__notebook__.ipynb",
   "parameters": {},
   "start_time": "2021-02-14T12:57:47.078291",
   "version": "2.2.2"
  }
 },
 "nbformat": 4,
 "nbformat_minor": 4
}
