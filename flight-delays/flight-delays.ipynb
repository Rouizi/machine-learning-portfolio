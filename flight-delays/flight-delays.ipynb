{
 "cells": [
  {
   "cell_type": "markdown",
   "metadata": {
    "papermill": {
     "duration": 0.033468,
     "end_time": "2021-02-28T21:29:07.590267",
     "exception": false,
     "start_time": "2021-02-28T21:29:07.556799",
     "status": "completed"
    },
    "tags": []
   },
   "source": [
    "# Import Libraries"
   ]
  },
  {
   "cell_type": "code",
   "execution_count": 1,
   "metadata": {
    "_cell_guid": "b1076dfc-b9ad-4769-8c92-a6c4dae69d19",
    "_uuid": "8f2839f25d086af736a60e9eeb907d3b93b6e0e5",
    "execution": {
     "iopub.execute_input": "2021-02-28T21:29:07.665241Z",
     "iopub.status.busy": "2021-02-28T21:29:07.664513Z",
     "iopub.status.idle": "2021-02-28T21:29:29.125456Z",
     "shell.execute_reply": "2021-02-28T21:29:29.125941Z"
    },
    "papermill": {
     "duration": 21.501965,
     "end_time": "2021-02-28T21:29:29.126359",
     "exception": false,
     "start_time": "2021-02-28T21:29:07.624394",
     "status": "completed"
    },
    "tags": []
   },
   "outputs": [
    {
     "name": "stderr",
     "output_type": "stream",
     "text": [
      "/opt/conda/lib/python3.7/site-packages/IPython/core/interactiveshell.py:3147: DtypeWarning: Columns (7,8) have mixed types.Specify dtype option on import or set low_memory=False.\n",
      "  interactivity=interactivity, compiler=compiler, result=result)\n"
     ]
    }
   ],
   "source": [
    "import numpy as np \n",
    "import pandas as pd \n",
    "\n",
    "import os\n",
    "\n",
    "airlines = pd.read_csv('../input/flight-delays/airlines.csv')\n",
    "airports = pd.read_csv('../input/flight-delays/airports.csv')\n",
    "flights = pd.read_csv('../input/flight-delays/flights.csv')"
   ]
  },
  {
   "cell_type": "markdown",
   "metadata": {
    "papermill": {
     "duration": 0.032123,
     "end_time": "2021-02-28T21:29:29.191869",
     "exception": false,
     "start_time": "2021-02-28T21:29:29.159746",
     "status": "completed"
    },
    "tags": []
   },
   "source": [
    "# Cleaning the Data and Get the Big Picture"
   ]
  },
  {
   "cell_type": "code",
   "execution_count": 2,
   "metadata": {
    "execution": {
     "iopub.execute_input": "2021-02-28T21:29:29.272899Z",
     "iopub.status.busy": "2021-02-28T21:29:29.260988Z",
     "iopub.status.idle": "2021-02-28T21:29:29.303333Z",
     "shell.execute_reply": "2021-02-28T21:29:29.302489Z"
    },
    "papermill": {
     "duration": 0.078645,
     "end_time": "2021-02-28T21:29:29.303483",
     "exception": false,
     "start_time": "2021-02-28T21:29:29.224838",
     "status": "completed"
    },
    "tags": []
   },
   "outputs": [
    {
     "data": {
      "text/html": [
       "<div>\n",
       "<style scoped>\n",
       "    .dataframe tbody tr th:only-of-type {\n",
       "        vertical-align: middle;\n",
       "    }\n",
       "\n",
       "    .dataframe tbody tr th {\n",
       "        vertical-align: top;\n",
       "    }\n",
       "\n",
       "    .dataframe thead th {\n",
       "        text-align: right;\n",
       "    }\n",
       "</style>\n",
       "<table border=\"1\" class=\"dataframe\">\n",
       "  <thead>\n",
       "    <tr style=\"text-align: right;\">\n",
       "      <th></th>\n",
       "      <th>IATA_CODE</th>\n",
       "      <th>AIRLINE</th>\n",
       "    </tr>\n",
       "  </thead>\n",
       "  <tbody>\n",
       "    <tr>\n",
       "      <th>0</th>\n",
       "      <td>UA</td>\n",
       "      <td>United Air Lines Inc.</td>\n",
       "    </tr>\n",
       "    <tr>\n",
       "      <th>1</th>\n",
       "      <td>AA</td>\n",
       "      <td>American Airlines Inc.</td>\n",
       "    </tr>\n",
       "    <tr>\n",
       "      <th>2</th>\n",
       "      <td>US</td>\n",
       "      <td>US Airways Inc.</td>\n",
       "    </tr>\n",
       "    <tr>\n",
       "      <th>3</th>\n",
       "      <td>F9</td>\n",
       "      <td>Frontier Airlines Inc.</td>\n",
       "    </tr>\n",
       "    <tr>\n",
       "      <th>4</th>\n",
       "      <td>B6</td>\n",
       "      <td>JetBlue Airways</td>\n",
       "    </tr>\n",
       "    <tr>\n",
       "      <th>5</th>\n",
       "      <td>OO</td>\n",
       "      <td>Skywest Airlines Inc.</td>\n",
       "    </tr>\n",
       "    <tr>\n",
       "      <th>6</th>\n",
       "      <td>AS</td>\n",
       "      <td>Alaska Airlines Inc.</td>\n",
       "    </tr>\n",
       "    <tr>\n",
       "      <th>7</th>\n",
       "      <td>NK</td>\n",
       "      <td>Spirit Air Lines</td>\n",
       "    </tr>\n",
       "    <tr>\n",
       "      <th>8</th>\n",
       "      <td>WN</td>\n",
       "      <td>Southwest Airlines Co.</td>\n",
       "    </tr>\n",
       "    <tr>\n",
       "      <th>9</th>\n",
       "      <td>DL</td>\n",
       "      <td>Delta Air Lines Inc.</td>\n",
       "    </tr>\n",
       "    <tr>\n",
       "      <th>10</th>\n",
       "      <td>EV</td>\n",
       "      <td>Atlantic Southeast Airlines</td>\n",
       "    </tr>\n",
       "    <tr>\n",
       "      <th>11</th>\n",
       "      <td>HA</td>\n",
       "      <td>Hawaiian Airlines Inc.</td>\n",
       "    </tr>\n",
       "    <tr>\n",
       "      <th>12</th>\n",
       "      <td>MQ</td>\n",
       "      <td>American Eagle Airlines Inc.</td>\n",
       "    </tr>\n",
       "    <tr>\n",
       "      <th>13</th>\n",
       "      <td>VX</td>\n",
       "      <td>Virgin America</td>\n",
       "    </tr>\n",
       "  </tbody>\n",
       "</table>\n",
       "</div>"
      ],
      "text/plain": [
       "   IATA_CODE                       AIRLINE\n",
       "0         UA         United Air Lines Inc.\n",
       "1         AA        American Airlines Inc.\n",
       "2         US               US Airways Inc.\n",
       "3         F9        Frontier Airlines Inc.\n",
       "4         B6               JetBlue Airways\n",
       "5         OO         Skywest Airlines Inc.\n",
       "6         AS          Alaska Airlines Inc.\n",
       "7         NK              Spirit Air Lines\n",
       "8         WN        Southwest Airlines Co.\n",
       "9         DL          Delta Air Lines Inc.\n",
       "10        EV   Atlantic Southeast Airlines\n",
       "11        HA        Hawaiian Airlines Inc.\n",
       "12        MQ  American Eagle Airlines Inc.\n",
       "13        VX                Virgin America"
      ]
     },
     "execution_count": 2,
     "metadata": {},
     "output_type": "execute_result"
    }
   ],
   "source": [
    "airlines"
   ]
  },
  {
   "cell_type": "code",
   "execution_count": 3,
   "metadata": {
    "execution": {
     "iopub.execute_input": "2021-02-28T21:29:29.389237Z",
     "iopub.status.busy": "2021-02-28T21:29:29.388565Z",
     "iopub.status.idle": "2021-02-28T21:29:29.393811Z",
     "shell.execute_reply": "2021-02-28T21:29:29.393214Z"
    },
    "papermill": {
     "duration": 0.054626,
     "end_time": "2021-02-28T21:29:29.393956",
     "exception": false,
     "start_time": "2021-02-28T21:29:29.339330",
     "status": "completed"
    },
    "tags": []
   },
   "outputs": [
    {
     "data": {
      "text/html": [
       "<div>\n",
       "<style scoped>\n",
       "    .dataframe tbody tr th:only-of-type {\n",
       "        vertical-align: middle;\n",
       "    }\n",
       "\n",
       "    .dataframe tbody tr th {\n",
       "        vertical-align: top;\n",
       "    }\n",
       "\n",
       "    .dataframe thead th {\n",
       "        text-align: right;\n",
       "    }\n",
       "</style>\n",
       "<table border=\"1\" class=\"dataframe\">\n",
       "  <thead>\n",
       "    <tr style=\"text-align: right;\">\n",
       "      <th></th>\n",
       "      <th>IATA_CODE</th>\n",
       "      <th>AIRPORT</th>\n",
       "      <th>CITY</th>\n",
       "      <th>STATE</th>\n",
       "      <th>COUNTRY</th>\n",
       "      <th>LATITUDE</th>\n",
       "      <th>LONGITUDE</th>\n",
       "    </tr>\n",
       "  </thead>\n",
       "  <tbody>\n",
       "    <tr>\n",
       "      <th>0</th>\n",
       "      <td>ABE</td>\n",
       "      <td>Lehigh Valley International Airport</td>\n",
       "      <td>Allentown</td>\n",
       "      <td>PA</td>\n",
       "      <td>USA</td>\n",
       "      <td>40.65236</td>\n",
       "      <td>-75.44040</td>\n",
       "    </tr>\n",
       "    <tr>\n",
       "      <th>1</th>\n",
       "      <td>ABI</td>\n",
       "      <td>Abilene Regional Airport</td>\n",
       "      <td>Abilene</td>\n",
       "      <td>TX</td>\n",
       "      <td>USA</td>\n",
       "      <td>32.41132</td>\n",
       "      <td>-99.68190</td>\n",
       "    </tr>\n",
       "    <tr>\n",
       "      <th>2</th>\n",
       "      <td>ABQ</td>\n",
       "      <td>Albuquerque International Sunport</td>\n",
       "      <td>Albuquerque</td>\n",
       "      <td>NM</td>\n",
       "      <td>USA</td>\n",
       "      <td>35.04022</td>\n",
       "      <td>-106.60919</td>\n",
       "    </tr>\n",
       "    <tr>\n",
       "      <th>3</th>\n",
       "      <td>ABR</td>\n",
       "      <td>Aberdeen Regional Airport</td>\n",
       "      <td>Aberdeen</td>\n",
       "      <td>SD</td>\n",
       "      <td>USA</td>\n",
       "      <td>45.44906</td>\n",
       "      <td>-98.42183</td>\n",
       "    </tr>\n",
       "    <tr>\n",
       "      <th>4</th>\n",
       "      <td>ABY</td>\n",
       "      <td>Southwest Georgia Regional Airport</td>\n",
       "      <td>Albany</td>\n",
       "      <td>GA</td>\n",
       "      <td>USA</td>\n",
       "      <td>31.53552</td>\n",
       "      <td>-84.19447</td>\n",
       "    </tr>\n",
       "  </tbody>\n",
       "</table>\n",
       "</div>"
      ],
      "text/plain": [
       "  IATA_CODE                              AIRPORT         CITY STATE COUNTRY  \\\n",
       "0       ABE  Lehigh Valley International Airport    Allentown    PA     USA   \n",
       "1       ABI             Abilene Regional Airport      Abilene    TX     USA   \n",
       "2       ABQ    Albuquerque International Sunport  Albuquerque    NM     USA   \n",
       "3       ABR            Aberdeen Regional Airport     Aberdeen    SD     USA   \n",
       "4       ABY   Southwest Georgia Regional Airport       Albany    GA     USA   \n",
       "\n",
       "   LATITUDE  LONGITUDE  \n",
       "0  40.65236  -75.44040  \n",
       "1  32.41132  -99.68190  \n",
       "2  35.04022 -106.60919  \n",
       "3  45.44906  -98.42183  \n",
       "4  31.53552  -84.19447  "
      ]
     },
     "execution_count": 3,
     "metadata": {},
     "output_type": "execute_result"
    }
   ],
   "source": [
    "airports.head()"
   ]
  },
  {
   "cell_type": "code",
   "execution_count": 4,
   "metadata": {
    "execution": {
     "iopub.execute_input": "2021-02-28T21:29:29.469793Z",
     "iopub.status.busy": "2021-02-28T21:29:29.469194Z",
     "iopub.status.idle": "2021-02-28T21:29:29.510261Z",
     "shell.execute_reply": "2021-02-28T21:29:29.510770Z"
    },
    "papermill": {
     "duration": 0.08012,
     "end_time": "2021-02-28T21:29:29.510973",
     "exception": false,
     "start_time": "2021-02-28T21:29:29.430853",
     "status": "completed"
    },
    "tags": []
   },
   "outputs": [
    {
     "data": {
      "text/html": [
       "<div>\n",
       "<style scoped>\n",
       "    .dataframe tbody tr th:only-of-type {\n",
       "        vertical-align: middle;\n",
       "    }\n",
       "\n",
       "    .dataframe tbody tr th {\n",
       "        vertical-align: top;\n",
       "    }\n",
       "\n",
       "    .dataframe thead th {\n",
       "        text-align: right;\n",
       "    }\n",
       "</style>\n",
       "<table border=\"1\" class=\"dataframe\">\n",
       "  <thead>\n",
       "    <tr style=\"text-align: right;\">\n",
       "      <th></th>\n",
       "      <th>YEAR</th>\n",
       "      <th>MONTH</th>\n",
       "      <th>DAY</th>\n",
       "      <th>DAY_OF_WEEK</th>\n",
       "      <th>AIRLINE</th>\n",
       "      <th>FLIGHT_NUMBER</th>\n",
       "      <th>TAIL_NUMBER</th>\n",
       "      <th>ORIGIN_AIRPORT</th>\n",
       "      <th>DESTINATION_AIRPORT</th>\n",
       "      <th>SCHEDULED_DEPARTURE</th>\n",
       "      <th>...</th>\n",
       "      <th>ARRIVAL_TIME</th>\n",
       "      <th>ARRIVAL_DELAY</th>\n",
       "      <th>DIVERTED</th>\n",
       "      <th>CANCELLED</th>\n",
       "      <th>CANCELLATION_REASON</th>\n",
       "      <th>AIR_SYSTEM_DELAY</th>\n",
       "      <th>SECURITY_DELAY</th>\n",
       "      <th>AIRLINE_DELAY</th>\n",
       "      <th>LATE_AIRCRAFT_DELAY</th>\n",
       "      <th>WEATHER_DELAY</th>\n",
       "    </tr>\n",
       "  </thead>\n",
       "  <tbody>\n",
       "    <tr>\n",
       "      <th>0</th>\n",
       "      <td>2015</td>\n",
       "      <td>1</td>\n",
       "      <td>1</td>\n",
       "      <td>4</td>\n",
       "      <td>AS</td>\n",
       "      <td>98</td>\n",
       "      <td>N407AS</td>\n",
       "      <td>ANC</td>\n",
       "      <td>SEA</td>\n",
       "      <td>5</td>\n",
       "      <td>...</td>\n",
       "      <td>408.0</td>\n",
       "      <td>-22.0</td>\n",
       "      <td>0</td>\n",
       "      <td>0</td>\n",
       "      <td>NaN</td>\n",
       "      <td>NaN</td>\n",
       "      <td>NaN</td>\n",
       "      <td>NaN</td>\n",
       "      <td>NaN</td>\n",
       "      <td>NaN</td>\n",
       "    </tr>\n",
       "    <tr>\n",
       "      <th>1</th>\n",
       "      <td>2015</td>\n",
       "      <td>1</td>\n",
       "      <td>1</td>\n",
       "      <td>4</td>\n",
       "      <td>AA</td>\n",
       "      <td>2336</td>\n",
       "      <td>N3KUAA</td>\n",
       "      <td>LAX</td>\n",
       "      <td>PBI</td>\n",
       "      <td>10</td>\n",
       "      <td>...</td>\n",
       "      <td>741.0</td>\n",
       "      <td>-9.0</td>\n",
       "      <td>0</td>\n",
       "      <td>0</td>\n",
       "      <td>NaN</td>\n",
       "      <td>NaN</td>\n",
       "      <td>NaN</td>\n",
       "      <td>NaN</td>\n",
       "      <td>NaN</td>\n",
       "      <td>NaN</td>\n",
       "    </tr>\n",
       "    <tr>\n",
       "      <th>2</th>\n",
       "      <td>2015</td>\n",
       "      <td>1</td>\n",
       "      <td>1</td>\n",
       "      <td>4</td>\n",
       "      <td>US</td>\n",
       "      <td>840</td>\n",
       "      <td>N171US</td>\n",
       "      <td>SFO</td>\n",
       "      <td>CLT</td>\n",
       "      <td>20</td>\n",
       "      <td>...</td>\n",
       "      <td>811.0</td>\n",
       "      <td>5.0</td>\n",
       "      <td>0</td>\n",
       "      <td>0</td>\n",
       "      <td>NaN</td>\n",
       "      <td>NaN</td>\n",
       "      <td>NaN</td>\n",
       "      <td>NaN</td>\n",
       "      <td>NaN</td>\n",
       "      <td>NaN</td>\n",
       "    </tr>\n",
       "    <tr>\n",
       "      <th>3</th>\n",
       "      <td>2015</td>\n",
       "      <td>1</td>\n",
       "      <td>1</td>\n",
       "      <td>4</td>\n",
       "      <td>AA</td>\n",
       "      <td>258</td>\n",
       "      <td>N3HYAA</td>\n",
       "      <td>LAX</td>\n",
       "      <td>MIA</td>\n",
       "      <td>20</td>\n",
       "      <td>...</td>\n",
       "      <td>756.0</td>\n",
       "      <td>-9.0</td>\n",
       "      <td>0</td>\n",
       "      <td>0</td>\n",
       "      <td>NaN</td>\n",
       "      <td>NaN</td>\n",
       "      <td>NaN</td>\n",
       "      <td>NaN</td>\n",
       "      <td>NaN</td>\n",
       "      <td>NaN</td>\n",
       "    </tr>\n",
       "    <tr>\n",
       "      <th>4</th>\n",
       "      <td>2015</td>\n",
       "      <td>1</td>\n",
       "      <td>1</td>\n",
       "      <td>4</td>\n",
       "      <td>AS</td>\n",
       "      <td>135</td>\n",
       "      <td>N527AS</td>\n",
       "      <td>SEA</td>\n",
       "      <td>ANC</td>\n",
       "      <td>25</td>\n",
       "      <td>...</td>\n",
       "      <td>259.0</td>\n",
       "      <td>-21.0</td>\n",
       "      <td>0</td>\n",
       "      <td>0</td>\n",
       "      <td>NaN</td>\n",
       "      <td>NaN</td>\n",
       "      <td>NaN</td>\n",
       "      <td>NaN</td>\n",
       "      <td>NaN</td>\n",
       "      <td>NaN</td>\n",
       "    </tr>\n",
       "  </tbody>\n",
       "</table>\n",
       "<p>5 rows × 31 columns</p>\n",
       "</div>"
      ],
      "text/plain": [
       "   YEAR  MONTH  DAY  DAY_OF_WEEK AIRLINE  FLIGHT_NUMBER TAIL_NUMBER  \\\n",
       "0  2015      1    1            4      AS             98      N407AS   \n",
       "1  2015      1    1            4      AA           2336      N3KUAA   \n",
       "2  2015      1    1            4      US            840      N171US   \n",
       "3  2015      1    1            4      AA            258      N3HYAA   \n",
       "4  2015      1    1            4      AS            135      N527AS   \n",
       "\n",
       "  ORIGIN_AIRPORT DESTINATION_AIRPORT  SCHEDULED_DEPARTURE  ...  ARRIVAL_TIME  \\\n",
       "0            ANC                 SEA                    5  ...         408.0   \n",
       "1            LAX                 PBI                   10  ...         741.0   \n",
       "2            SFO                 CLT                   20  ...         811.0   \n",
       "3            LAX                 MIA                   20  ...         756.0   \n",
       "4            SEA                 ANC                   25  ...         259.0   \n",
       "\n",
       "   ARRIVAL_DELAY  DIVERTED  CANCELLED  CANCELLATION_REASON  AIR_SYSTEM_DELAY  \\\n",
       "0          -22.0         0          0                  NaN               NaN   \n",
       "1           -9.0         0          0                  NaN               NaN   \n",
       "2            5.0         0          0                  NaN               NaN   \n",
       "3           -9.0         0          0                  NaN               NaN   \n",
       "4          -21.0         0          0                  NaN               NaN   \n",
       "\n",
       "   SECURITY_DELAY  AIRLINE_DELAY  LATE_AIRCRAFT_DELAY  WEATHER_DELAY  \n",
       "0             NaN            NaN                  NaN            NaN  \n",
       "1             NaN            NaN                  NaN            NaN  \n",
       "2             NaN            NaN                  NaN            NaN  \n",
       "3             NaN            NaN                  NaN            NaN  \n",
       "4             NaN            NaN                  NaN            NaN  \n",
       "\n",
       "[5 rows x 31 columns]"
      ]
     },
     "execution_count": 4,
     "metadata": {},
     "output_type": "execute_result"
    }
   ],
   "source": [
    "flights.head()"
   ]
  },
  {
   "cell_type": "code",
   "execution_count": 5,
   "metadata": {
    "execution": {
     "iopub.execute_input": "2021-02-28T21:29:29.588640Z",
     "iopub.status.busy": "2021-02-28T21:29:29.587984Z",
     "iopub.status.idle": "2021-02-28T21:29:31.041242Z",
     "shell.execute_reply": "2021-02-28T21:29:31.040573Z"
    },
    "papermill": {
     "duration": 1.494671,
     "end_time": "2021-02-28T21:29:31.041390",
     "exception": false,
     "start_time": "2021-02-28T21:29:29.546719",
     "status": "completed"
    },
    "tags": []
   },
   "outputs": [
    {
     "name": "stdout",
     "output_type": "stream",
     "text": [
      "<class 'pandas.core.frame.DataFrame'>\n",
      "RangeIndex: 5819079 entries, 0 to 5819078\n",
      "Data columns (total 31 columns):\n",
      " #   Column               Non-Null Count    Dtype  \n",
      "---  ------               --------------    -----  \n",
      " 0   YEAR                 5819079 non-null  int64  \n",
      " 1   MONTH                5819079 non-null  int64  \n",
      " 2   DAY                  5819079 non-null  int64  \n",
      " 3   DAY_OF_WEEK          5819079 non-null  int64  \n",
      " 4   AIRLINE              5819079 non-null  object \n",
      " 5   FLIGHT_NUMBER        5819079 non-null  int64  \n",
      " 6   TAIL_NUMBER          5804358 non-null  object \n",
      " 7   ORIGIN_AIRPORT       5819079 non-null  object \n",
      " 8   DESTINATION_AIRPORT  5819079 non-null  object \n",
      " 9   SCHEDULED_DEPARTURE  5819079 non-null  int64  \n",
      " 10  DEPARTURE_TIME       5732926 non-null  float64\n",
      " 11  DEPARTURE_DELAY      5732926 non-null  float64\n",
      " 12  TAXI_OUT             5730032 non-null  float64\n",
      " 13  WHEELS_OFF           5730032 non-null  float64\n",
      " 14  SCHEDULED_TIME       5819073 non-null  float64\n",
      " 15  ELAPSED_TIME         5714008 non-null  float64\n",
      " 16  AIR_TIME             5714008 non-null  float64\n",
      " 17  DISTANCE             5819079 non-null  int64  \n",
      " 18  WHEELS_ON            5726566 non-null  float64\n",
      " 19  TAXI_IN              5726566 non-null  float64\n",
      " 20  SCHEDULED_ARRIVAL    5819079 non-null  int64  \n",
      " 21  ARRIVAL_TIME         5726566 non-null  float64\n",
      " 22  ARRIVAL_DELAY        5714008 non-null  float64\n",
      " 23  DIVERTED             5819079 non-null  int64  \n",
      " 24  CANCELLED            5819079 non-null  int64  \n",
      " 25  CANCELLATION_REASON  89884 non-null    object \n",
      " 26  AIR_SYSTEM_DELAY     1063439 non-null  float64\n",
      " 27  SECURITY_DELAY       1063439 non-null  float64\n",
      " 28  AIRLINE_DELAY        1063439 non-null  float64\n",
      " 29  LATE_AIRCRAFT_DELAY  1063439 non-null  float64\n",
      " 30  WEATHER_DELAY        1063439 non-null  float64\n",
      "dtypes: float64(16), int64(10), object(5)\n",
      "memory usage: 1.3+ GB\n"
     ]
    }
   ],
   "source": [
    "flights.info(show_counts=True)"
   ]
  },
  {
   "cell_type": "markdown",
   "metadata": {
    "papermill": {
     "duration": 0.036182,
     "end_time": "2021-02-28T21:29:31.113008",
     "exception": false,
     "start_time": "2021-02-28T21:29:31.076826",
     "status": "completed"
    },
    "tags": []
   },
   "source": [
    "**Drop columns that have a lot of missing values**"
   ]
  },
  {
   "cell_type": "code",
   "execution_count": 6,
   "metadata": {
    "execution": {
     "iopub.execute_input": "2021-02-28T21:29:31.363533Z",
     "iopub.status.busy": "2021-02-28T21:29:31.290069Z",
     "iopub.status.idle": "2021-02-28T21:29:31.658526Z",
     "shell.execute_reply": "2021-02-28T21:29:31.659179Z"
    },
    "papermill": {
     "duration": 0.510908,
     "end_time": "2021-02-28T21:29:31.659360",
     "exception": false,
     "start_time": "2021-02-28T21:29:31.148452",
     "status": "completed"
    },
    "tags": []
   },
   "outputs": [],
   "source": [
    "columns_to_drop = ['CANCELLATION_REASON', 'AIR_SYSTEM_DELAY', 'SECURITY_DELAY', \n",
    "                  \"AIRLINE_DELAY\", \"LATE_AIRCRAFT_DELAY\", \"WEATHER_DELAY\"]\n",
    "\n",
    "flights = flights.drop(columns_to_drop, axis=1, errors='ignore')"
   ]
  },
  {
   "cell_type": "markdown",
   "metadata": {
    "papermill": {
     "duration": 0.036005,
     "end_time": "2021-02-28T21:29:31.730586",
     "exception": false,
     "start_time": "2021-02-28T21:29:31.694581",
     "status": "completed"
    },
    "tags": []
   },
   "source": [
    "Let's see how many flights have been canceled or diverted"
   ]
  },
  {
   "cell_type": "code",
   "execution_count": 7,
   "metadata": {
    "execution": {
     "iopub.execute_input": "2021-02-28T21:29:31.809330Z",
     "iopub.status.busy": "2021-02-28T21:29:31.808668Z",
     "iopub.status.idle": "2021-02-28T21:29:31.973306Z",
     "shell.execute_reply": "2021-02-28T21:29:31.972454Z"
    },
    "papermill": {
     "duration": 0.20749,
     "end_time": "2021-02-28T21:29:31.973478",
     "exception": false,
     "start_time": "2021-02-28T21:29:31.765988",
     "status": "completed"
    },
    "tags": []
   },
   "outputs": [
    {
     "name": "stdout",
     "output_type": "stream",
     "text": [
      "0    5803892\n",
      "1      15187\n",
      "Name: DIVERTED, dtype: int64\n",
      "******************************\n",
      "0    5729195\n",
      "1      89884\n",
      "Name: CANCELLED, dtype: int64\n"
     ]
    }
   ],
   "source": [
    "print(flights['DIVERTED'].value_counts())\n",
    "print('*' * 30)\n",
    "print(flights['CANCELLED'].value_counts())"
   ]
  },
  {
   "cell_type": "markdown",
   "metadata": {
    "papermill": {
     "duration": 0.035577,
     "end_time": "2021-02-28T21:29:32.046502",
     "exception": false,
     "start_time": "2021-02-28T21:29:32.010925",
     "status": "completed"
    },
    "tags": []
   },
   "source": [
    "Flights that are 'CANCELLED' or 'DIVERTED' should be removed because they are outliers (rare cases)"
   ]
  },
  {
   "cell_type": "code",
   "execution_count": 8,
   "metadata": {
    "execution": {
     "iopub.execute_input": "2021-02-28T21:29:32.127400Z",
     "iopub.status.busy": "2021-02-28T21:29:32.126599Z",
     "iopub.status.idle": "2021-02-28T21:29:34.186542Z",
     "shell.execute_reply": "2021-02-28T21:29:34.187041Z"
    },
    "papermill": {
     "duration": 2.103417,
     "end_time": "2021-02-28T21:29:34.187265",
     "exception": false,
     "start_time": "2021-02-28T21:29:32.083848",
     "status": "completed"
    },
    "tags": []
   },
   "outputs": [],
   "source": [
    "flights = flights[flights['CANCELLED'] == 0]   # keep only non-concelled flights\n",
    "flights = flights[flights['DIVERTED'] == 0]    # keep only non-diverted flights\n",
    "assert len(flights) == 5819079 - 89884 - 15187 # all flights - conceled - diverted (= 5714008)"
   ]
  },
  {
   "cell_type": "markdown",
   "metadata": {
    "papermill": {
     "duration": 0.037271,
     "end_time": "2021-02-28T21:29:34.262687",
     "exception": false,
     "start_time": "2021-02-28T21:29:34.225416",
     "status": "completed"
    },
    "tags": []
   },
   "source": [
    "**Correlations**\n",
    "\n",
    "Let's look at how much each attributes correlates with the arrival delay:"
   ]
  },
  {
   "cell_type": "code",
   "execution_count": 9,
   "metadata": {
    "execution": {
     "iopub.execute_input": "2021-02-28T21:29:34.345600Z",
     "iopub.status.busy": "2021-02-28T21:29:34.344888Z",
     "iopub.status.idle": "2021-02-28T21:29:41.249073Z",
     "shell.execute_reply": "2021-02-28T21:29:41.248414Z"
    },
    "papermill": {
     "duration": 6.94965,
     "end_time": "2021-02-28T21:29:41.249253",
     "exception": false,
     "start_time": "2021-02-28T21:29:34.299603",
     "status": "completed"
    },
    "tags": []
   },
   "outputs": [
    {
     "data": {
      "text/plain": [
       "ARRIVAL_DELAY          1.000000\n",
       "DEPARTURE_DELAY        0.944672\n",
       "TAXI_OUT               0.227319\n",
       "DEPARTURE_TIME         0.159787\n",
       "WHEELS_OFF             0.155773\n",
       "TAXI_IN                0.116628\n",
       "SCHEDULED_DEPARTURE    0.100220\n",
       "SCHEDULED_ARRIVAL      0.088824\n",
       "WHEELS_ON              0.058880\n",
       "ARRIVAL_TIME           0.049876\n",
       "ELAPSED_TIME           0.029120\n",
       "FLIGHT_NUMBER          0.018419\n",
       "DAY                   -0.003097\n",
       "AIR_TIME              -0.007108\n",
       "DAY_OF_WEEK           -0.017027\n",
       "DISTANCE              -0.025444\n",
       "SCHEDULED_TIME        -0.030029\n",
       "MONTH                 -0.036793\n",
       "YEAR                        NaN\n",
       "DIVERTED                    NaN\n",
       "CANCELLED                   NaN\n",
       "Name: ARRIVAL_DELAY, dtype: float64"
      ]
     },
     "execution_count": 9,
     "metadata": {},
     "output_type": "execute_result"
    }
   ],
   "source": [
    "corr_matrix = flights.corr()\n",
    "corr_matrix['ARRIVAL_DELAY'].sort_values(ascending=False)"
   ]
  },
  {
   "cell_type": "markdown",
   "metadata": {
    "papermill": {
     "duration": 0.039189,
     "end_time": "2021-02-28T21:29:41.326200",
     "exception": false,
     "start_time": "2021-02-28T21:29:41.287011",
     "status": "completed"
    },
    "tags": []
   },
   "source": [
    "Let's keep only useful attributes"
   ]
  },
  {
   "cell_type": "code",
   "execution_count": 10,
   "metadata": {
    "execution": {
     "iopub.execute_input": "2021-02-28T21:29:41.497398Z",
     "iopub.status.busy": "2021-02-28T21:29:41.449837Z",
     "iopub.status.idle": "2021-02-28T21:29:41.777267Z",
     "shell.execute_reply": "2021-02-28T21:29:41.777754Z"
    },
    "papermill": {
     "duration": 0.411062,
     "end_time": "2021-02-28T21:29:41.777955",
     "exception": false,
     "start_time": "2021-02-28T21:29:41.366893",
     "status": "completed"
    },
    "tags": []
   },
   "outputs": [
    {
     "data": {
      "text/html": [
       "<div>\n",
       "<style scoped>\n",
       "    .dataframe tbody tr th:only-of-type {\n",
       "        vertical-align: middle;\n",
       "    }\n",
       "\n",
       "    .dataframe tbody tr th {\n",
       "        vertical-align: top;\n",
       "    }\n",
       "\n",
       "    .dataframe thead th {\n",
       "        text-align: right;\n",
       "    }\n",
       "</style>\n",
       "<table border=\"1\" class=\"dataframe\">\n",
       "  <thead>\n",
       "    <tr style=\"text-align: right;\">\n",
       "      <th></th>\n",
       "      <th>MONTH</th>\n",
       "      <th>DAY</th>\n",
       "      <th>AIRLINE</th>\n",
       "      <th>ORIGIN_AIRPORT</th>\n",
       "      <th>DESTINATION_AIRPORT</th>\n",
       "      <th>SCHEDULED_DEPARTURE</th>\n",
       "      <th>DEPARTURE_TIME</th>\n",
       "      <th>DEPARTURE_DELAY</th>\n",
       "      <th>SCHEDULED_ARRIVAL</th>\n",
       "      <th>ARRIVAL_TIME</th>\n",
       "      <th>ARRIVAL_DELAY</th>\n",
       "      <th>ELAPSED_TIME</th>\n",
       "    </tr>\n",
       "  </thead>\n",
       "  <tbody>\n",
       "    <tr>\n",
       "      <th>0</th>\n",
       "      <td>1</td>\n",
       "      <td>1</td>\n",
       "      <td>AS</td>\n",
       "      <td>ANC</td>\n",
       "      <td>SEA</td>\n",
       "      <td>5</td>\n",
       "      <td>2354.0</td>\n",
       "      <td>-11.0</td>\n",
       "      <td>430</td>\n",
       "      <td>408.0</td>\n",
       "      <td>-22.0</td>\n",
       "      <td>194.0</td>\n",
       "    </tr>\n",
       "    <tr>\n",
       "      <th>1</th>\n",
       "      <td>1</td>\n",
       "      <td>1</td>\n",
       "      <td>AA</td>\n",
       "      <td>LAX</td>\n",
       "      <td>PBI</td>\n",
       "      <td>10</td>\n",
       "      <td>2.0</td>\n",
       "      <td>-8.0</td>\n",
       "      <td>750</td>\n",
       "      <td>741.0</td>\n",
       "      <td>-9.0</td>\n",
       "      <td>279.0</td>\n",
       "    </tr>\n",
       "    <tr>\n",
       "      <th>2</th>\n",
       "      <td>1</td>\n",
       "      <td>1</td>\n",
       "      <td>US</td>\n",
       "      <td>SFO</td>\n",
       "      <td>CLT</td>\n",
       "      <td>20</td>\n",
       "      <td>18.0</td>\n",
       "      <td>-2.0</td>\n",
       "      <td>806</td>\n",
       "      <td>811.0</td>\n",
       "      <td>5.0</td>\n",
       "      <td>293.0</td>\n",
       "    </tr>\n",
       "    <tr>\n",
       "      <th>3</th>\n",
       "      <td>1</td>\n",
       "      <td>1</td>\n",
       "      <td>AA</td>\n",
       "      <td>LAX</td>\n",
       "      <td>MIA</td>\n",
       "      <td>20</td>\n",
       "      <td>15.0</td>\n",
       "      <td>-5.0</td>\n",
       "      <td>805</td>\n",
       "      <td>756.0</td>\n",
       "      <td>-9.0</td>\n",
       "      <td>281.0</td>\n",
       "    </tr>\n",
       "    <tr>\n",
       "      <th>4</th>\n",
       "      <td>1</td>\n",
       "      <td>1</td>\n",
       "      <td>AS</td>\n",
       "      <td>SEA</td>\n",
       "      <td>ANC</td>\n",
       "      <td>25</td>\n",
       "      <td>24.0</td>\n",
       "      <td>-1.0</td>\n",
       "      <td>320</td>\n",
       "      <td>259.0</td>\n",
       "      <td>-21.0</td>\n",
       "      <td>215.0</td>\n",
       "    </tr>\n",
       "  </tbody>\n",
       "</table>\n",
       "</div>"
      ],
      "text/plain": [
       "   MONTH  DAY AIRLINE ORIGIN_AIRPORT DESTINATION_AIRPORT  SCHEDULED_DEPARTURE  \\\n",
       "0      1    1      AS            ANC                 SEA                    5   \n",
       "1      1    1      AA            LAX                 PBI                   10   \n",
       "2      1    1      US            SFO                 CLT                   20   \n",
       "3      1    1      AA            LAX                 MIA                   20   \n",
       "4      1    1      AS            SEA                 ANC                   25   \n",
       "\n",
       "   DEPARTURE_TIME  DEPARTURE_DELAY  SCHEDULED_ARRIVAL  ARRIVAL_TIME  \\\n",
       "0          2354.0            -11.0                430         408.0   \n",
       "1             2.0             -8.0                750         741.0   \n",
       "2            18.0             -2.0                806         811.0   \n",
       "3            15.0             -5.0                805         756.0   \n",
       "4            24.0             -1.0                320         259.0   \n",
       "\n",
       "   ARRIVAL_DELAY  ELAPSED_TIME  \n",
       "0          -22.0         194.0  \n",
       "1           -9.0         279.0  \n",
       "2            5.0         293.0  \n",
       "3           -9.0         281.0  \n",
       "4          -21.0         215.0  "
      ]
     },
     "execution_count": 10,
     "metadata": {},
     "output_type": "execute_result"
    }
   ],
   "source": [
    "flights = flights[['MONTH', 'DAY', 'AIRLINE', 'ORIGIN_AIRPORT', 'DESTINATION_AIRPORT', \n",
    "                    'SCHEDULED_DEPARTURE', 'DEPARTURE_TIME', 'DEPARTURE_DELAY', \n",
    "                    'SCHEDULED_ARRIVAL', 'ARRIVAL_TIME', 'ARRIVAL_DELAY', 'ELAPSED_TIME', ]]\n",
    "flights.head()"
   ]
  },
  {
   "cell_type": "markdown",
   "metadata": {
    "papermill": {
     "duration": 0.038066,
     "end_time": "2021-02-28T21:29:41.853204",
     "exception": false,
     "start_time": "2021-02-28T21:29:41.815138",
     "status": "completed"
    },
    "tags": []
   },
   "source": [
    "**Check for null values**"
   ]
  },
  {
   "cell_type": "code",
   "execution_count": 11,
   "metadata": {
    "execution": {
     "iopub.execute_input": "2021-02-28T21:29:41.936360Z",
     "iopub.status.busy": "2021-02-28T21:29:41.934739Z",
     "iopub.status.idle": "2021-02-28T21:29:42.778833Z",
     "shell.execute_reply": "2021-02-28T21:29:42.778203Z"
    },
    "papermill": {
     "duration": 0.887281,
     "end_time": "2021-02-28T21:29:42.778983",
     "exception": false,
     "start_time": "2021-02-28T21:29:41.891702",
     "status": "completed"
    },
    "tags": []
   },
   "outputs": [
    {
     "data": {
      "text/plain": [
       "MONTH                  0\n",
       "DAY                    0\n",
       "AIRLINE                0\n",
       "ORIGIN_AIRPORT         0\n",
       "DESTINATION_AIRPORT    0\n",
       "SCHEDULED_DEPARTURE    0\n",
       "DEPARTURE_TIME         0\n",
       "DEPARTURE_DELAY        0\n",
       "SCHEDULED_ARRIVAL      0\n",
       "ARRIVAL_TIME           0\n",
       "ARRIVAL_DELAY          0\n",
       "ELAPSED_TIME           0\n",
       "dtype: int64"
      ]
     },
     "execution_count": 11,
     "metadata": {},
     "output_type": "execute_result"
    }
   ],
   "source": [
    "flights.isnull().sum()"
   ]
  },
  {
   "cell_type": "markdown",
   "metadata": {
    "papermill": {
     "duration": 0.037501,
     "end_time": "2021-02-28T21:29:42.855738",
     "exception": false,
     "start_time": "2021-02-28T21:29:42.818237",
     "status": "completed"
    },
    "tags": []
   },
   "source": [
    "**Summary of the numerical attributes**"
   ]
  },
  {
   "cell_type": "code",
   "execution_count": 12,
   "metadata": {
    "execution": {
     "iopub.execute_input": "2021-02-28T21:29:42.981155Z",
     "iopub.status.busy": "2021-02-28T21:29:42.980246Z",
     "iopub.status.idle": "2021-02-28T21:29:44.414076Z",
     "shell.execute_reply": "2021-02-28T21:29:44.413467Z"
    },
    "papermill": {
     "duration": 1.51963,
     "end_time": "2021-02-28T21:29:44.414240",
     "exception": false,
     "start_time": "2021-02-28T21:29:42.894610",
     "status": "completed"
    },
    "tags": []
   },
   "outputs": [
    {
     "data": {
      "text/html": [
       "<div>\n",
       "<style scoped>\n",
       "    .dataframe tbody tr th:only-of-type {\n",
       "        vertical-align: middle;\n",
       "    }\n",
       "\n",
       "    .dataframe tbody tr th {\n",
       "        vertical-align: top;\n",
       "    }\n",
       "\n",
       "    .dataframe thead th {\n",
       "        text-align: right;\n",
       "    }\n",
       "</style>\n",
       "<table border=\"1\" class=\"dataframe\">\n",
       "  <thead>\n",
       "    <tr style=\"text-align: right;\">\n",
       "      <th></th>\n",
       "      <th>MONTH</th>\n",
       "      <th>DAY</th>\n",
       "      <th>SCHEDULED_DEPARTURE</th>\n",
       "      <th>DEPARTURE_TIME</th>\n",
       "      <th>DEPARTURE_DELAY</th>\n",
       "      <th>SCHEDULED_ARRIVAL</th>\n",
       "      <th>ARRIVAL_TIME</th>\n",
       "      <th>ARRIVAL_DELAY</th>\n",
       "      <th>ELAPSED_TIME</th>\n",
       "    </tr>\n",
       "  </thead>\n",
       "  <tbody>\n",
       "    <tr>\n",
       "      <th>count</th>\n",
       "      <td>5.714008e+06</td>\n",
       "      <td>5.714008e+06</td>\n",
       "      <td>5.714008e+06</td>\n",
       "      <td>5.714008e+06</td>\n",
       "      <td>5.714008e+06</td>\n",
       "      <td>5.714008e+06</td>\n",
       "      <td>5.714008e+06</td>\n",
       "      <td>5.714008e+06</td>\n",
       "      <td>5.714008e+06</td>\n",
       "    </tr>\n",
       "    <tr>\n",
       "      <th>mean</th>\n",
       "      <td>6.547799e+00</td>\n",
       "      <td>1.570759e+01</td>\n",
       "      <td>1.328907e+03</td>\n",
       "      <td>1.335066e+03</td>\n",
       "      <td>9.294842e+00</td>\n",
       "      <td>1.493187e+03</td>\n",
       "      <td>1.476373e+03</td>\n",
       "      <td>4.407057e+00</td>\n",
       "      <td>1.370062e+02</td>\n",
       "    </tr>\n",
       "    <tr>\n",
       "      <th>std</th>\n",
       "      <td>3.397421e+00</td>\n",
       "      <td>8.774394e+00</td>\n",
       "      <td>4.835251e+02</td>\n",
       "      <td>4.964198e+02</td>\n",
       "      <td>3.688972e+01</td>\n",
       "      <td>5.069011e+02</td>\n",
       "      <td>5.259730e+02</td>\n",
       "      <td>3.927130e+01</td>\n",
       "      <td>7.421107e+01</td>\n",
       "    </tr>\n",
       "    <tr>\n",
       "      <th>min</th>\n",
       "      <td>1.000000e+00</td>\n",
       "      <td>1.000000e+00</td>\n",
       "      <td>1.000000e+00</td>\n",
       "      <td>1.000000e+00</td>\n",
       "      <td>-8.200000e+01</td>\n",
       "      <td>1.000000e+00</td>\n",
       "      <td>1.000000e+00</td>\n",
       "      <td>-8.700000e+01</td>\n",
       "      <td>1.400000e+01</td>\n",
       "    </tr>\n",
       "    <tr>\n",
       "      <th>25%</th>\n",
       "      <td>4.000000e+00</td>\n",
       "      <td>8.000000e+00</td>\n",
       "      <td>9.160000e+02</td>\n",
       "      <td>9.210000e+02</td>\n",
       "      <td>-5.000000e+00</td>\n",
       "      <td>1.110000e+03</td>\n",
       "      <td>1.058000e+03</td>\n",
       "      <td>-1.300000e+01</td>\n",
       "      <td>8.200000e+01</td>\n",
       "    </tr>\n",
       "    <tr>\n",
       "      <th>50%</th>\n",
       "      <td>7.000000e+00</td>\n",
       "      <td>1.600000e+01</td>\n",
       "      <td>1.325000e+03</td>\n",
       "      <td>1.330000e+03</td>\n",
       "      <td>-2.000000e+00</td>\n",
       "      <td>1.520000e+03</td>\n",
       "      <td>1.512000e+03</td>\n",
       "      <td>-5.000000e+00</td>\n",
       "      <td>1.180000e+02</td>\n",
       "    </tr>\n",
       "    <tr>\n",
       "      <th>75%</th>\n",
       "      <td>9.000000e+00</td>\n",
       "      <td>2.300000e+01</td>\n",
       "      <td>1.730000e+03</td>\n",
       "      <td>1.740000e+03</td>\n",
       "      <td>7.000000e+00</td>\n",
       "      <td>1.917000e+03</td>\n",
       "      <td>1.916000e+03</td>\n",
       "      <td>8.000000e+00</td>\n",
       "      <td>1.680000e+02</td>\n",
       "    </tr>\n",
       "    <tr>\n",
       "      <th>max</th>\n",
       "      <td>1.200000e+01</td>\n",
       "      <td>3.100000e+01</td>\n",
       "      <td>2.359000e+03</td>\n",
       "      <td>2.400000e+03</td>\n",
       "      <td>1.988000e+03</td>\n",
       "      <td>2.400000e+03</td>\n",
       "      <td>2.400000e+03</td>\n",
       "      <td>1.971000e+03</td>\n",
       "      <td>7.660000e+02</td>\n",
       "    </tr>\n",
       "  </tbody>\n",
       "</table>\n",
       "</div>"
      ],
      "text/plain": [
       "              MONTH           DAY  SCHEDULED_DEPARTURE  DEPARTURE_TIME  \\\n",
       "count  5.714008e+06  5.714008e+06         5.714008e+06    5.714008e+06   \n",
       "mean   6.547799e+00  1.570759e+01         1.328907e+03    1.335066e+03   \n",
       "std    3.397421e+00  8.774394e+00         4.835251e+02    4.964198e+02   \n",
       "min    1.000000e+00  1.000000e+00         1.000000e+00    1.000000e+00   \n",
       "25%    4.000000e+00  8.000000e+00         9.160000e+02    9.210000e+02   \n",
       "50%    7.000000e+00  1.600000e+01         1.325000e+03    1.330000e+03   \n",
       "75%    9.000000e+00  2.300000e+01         1.730000e+03    1.740000e+03   \n",
       "max    1.200000e+01  3.100000e+01         2.359000e+03    2.400000e+03   \n",
       "\n",
       "       DEPARTURE_DELAY  SCHEDULED_ARRIVAL  ARRIVAL_TIME  ARRIVAL_DELAY  \\\n",
       "count     5.714008e+06       5.714008e+06  5.714008e+06   5.714008e+06   \n",
       "mean      9.294842e+00       1.493187e+03  1.476373e+03   4.407057e+00   \n",
       "std       3.688972e+01       5.069011e+02  5.259730e+02   3.927130e+01   \n",
       "min      -8.200000e+01       1.000000e+00  1.000000e+00  -8.700000e+01   \n",
       "25%      -5.000000e+00       1.110000e+03  1.058000e+03  -1.300000e+01   \n",
       "50%      -2.000000e+00       1.520000e+03  1.512000e+03  -5.000000e+00   \n",
       "75%       7.000000e+00       1.917000e+03  1.916000e+03   8.000000e+00   \n",
       "max       1.988000e+03       2.400000e+03  2.400000e+03   1.971000e+03   \n",
       "\n",
       "       ELAPSED_TIME  \n",
       "count  5.714008e+06  \n",
       "mean   1.370062e+02  \n",
       "std    7.421107e+01  \n",
       "min    1.400000e+01  \n",
       "25%    8.200000e+01  \n",
       "50%    1.180000e+02  \n",
       "75%    1.680000e+02  \n",
       "max    7.660000e+02  "
      ]
     },
     "execution_count": 12,
     "metadata": {},
     "output_type": "execute_result"
    }
   ],
   "source": [
    "flights.describe()"
   ]
  },
  {
   "cell_type": "markdown",
   "metadata": {
    "papermill": {
     "duration": 0.039,
     "end_time": "2021-02-28T21:29:44.491456",
     "exception": false,
     "start_time": "2021-02-28T21:29:44.452456",
     "status": "completed"
    },
    "tags": []
   },
   "source": [
    "**Distribution of the arrival delay attribute**"
   ]
  },
  {
   "cell_type": "code",
   "execution_count": 13,
   "metadata": {
    "execution": {
     "iopub.execute_input": "2021-02-28T21:29:44.596592Z",
     "iopub.status.busy": "2021-02-28T21:29:44.593884Z",
     "iopub.status.idle": "2021-02-28T21:29:47.553842Z",
     "shell.execute_reply": "2021-02-28T21:29:47.553255Z"
    },
    "papermill": {
     "duration": 3.023985,
     "end_time": "2021-02-28T21:29:47.553997",
     "exception": false,
     "start_time": "2021-02-28T21:29:44.530012",
     "status": "completed"
    },
    "tags": []
   },
   "outputs": [
    {
     "data": {
      "text/plain": [
       "Text(0, 0.5, 'Number of flights')"
      ]
     },
     "execution_count": 13,
     "metadata": {},
     "output_type": "execute_result"
    },
    {
     "data": {
      "image/png": "[encoded data removed]",
      "text/plain": [
       "<Figure size 432x288 with 1 Axes>"
      ]
     },
     "metadata": {
      "needs_background": "light"
     },
     "output_type": "display_data"
    }
   ],
   "source": [
    "import matplotlib.pyplot as plt\n",
    "\n",
    "fig, ax = plt.subplots()\n",
    "flights.ARRIVAL_DELAY.hist(ax=ax, bins=1000, range=(-10, 1000))\n",
    "ax.set_xscale('log')\n",
    "plt.ylim(0, 150000)\n",
    "plt.xlabel('Delay (minutes)')\n",
    "plt.ylabel('Number of flights')"
   ]
  },
  {
   "cell_type": "markdown",
   "metadata": {
    "papermill": {
     "duration": 0.041099,
     "end_time": "2021-02-28T21:29:47.636740",
     "exception": false,
     "start_time": "2021-02-28T21:29:47.595641",
     "status": "completed"
    },
    "tags": []
   },
   "source": [
    "# Exploration with Regard to the Mean Delay"
   ]
  },
  {
   "cell_type": "code",
   "execution_count": 14,
   "metadata": {
    "execution": {
     "iopub.execute_input": "2021-02-28T21:29:47.728639Z",
     "iopub.status.busy": "2021-02-28T21:29:47.727797Z",
     "iopub.status.idle": "2021-02-28T21:29:56.664244Z",
     "shell.execute_reply": "2021-02-28T21:29:56.663471Z"
    },
    "papermill": {
     "duration": 8.986911,
     "end_time": "2021-02-28T21:29:56.664392",
     "exception": false,
     "start_time": "2021-02-28T21:29:47.677481",
     "status": "completed"
    },
    "tags": []
   },
   "outputs": [
    {
     "data": {
      "image/png": "[encoded data removed]",
      "text/plain": [
       "<Figure size 720x504 with 1 Axes>"
      ]
     },
     "metadata": {
      "needs_background": "light"
     },
     "output_type": "display_data"
    }
   ],
   "source": [
    "# Inspired from this kaggle kernel: https://www.kaggle.com/fabiendaniel/predicting-flight-delays-tutorial\n",
    "import seaborn as sns \n",
    "\n",
    "def delay_by_attribute(attribute, df=flights, figsize=(10, 7)):\n",
    "    # Delay with less than 10 min are mapped to 0 otherwise they are mapped to 1\n",
    "    delay_type = lambda x: 0 if x < 10 else 1\n",
    "    flights['DELAY_TYPE'] = flights['DEPARTURE_DELAY'].apply(delay_type)\n",
    "    \n",
    "    plt.figure(1, figsize=figsize)\n",
    "    ax = sns.countplot(y=attribute, hue='DELAY_TYPE', data=df)\n",
    "    \n",
    "    plt.xlabel('Flight count', fontsize=16, weight='bold')\n",
    "    plt.ylabel(attribute, fontsize=16, weight='bold')\n",
    "    plt.title(f'Delay by {attribute}', weight='bold')\n",
    "    L = plt.legend()\n",
    "    L.get_texts()[0].set_text('small delay (t < 10 min)')\n",
    "    L.get_texts()[1].set_text('large delay (t > 10 min)')\n",
    "    plt.grid(True)\n",
    "    plt.show()\n",
    "\n",
    "delay_by_attribute('AIRLINE')"
   ]
  },
  {
   "cell_type": "markdown",
   "metadata": {
    "papermill": {
     "duration": 0.039984,
     "end_time": "2021-02-28T21:29:56.745949",
     "exception": false,
     "start_time": "2021-02-28T21:29:56.705965",
     "status": "completed"
    },
    "tags": []
   },
   "source": [
    "We can see that the proportion between small and large delay is related to the airline, for example: the airline **UA** (United Air Lines Inc.) almost 50% of their flights have a large delay, on the other hand, the airline **DL** (Delta Air Lines Inc.) ~25% of their flights have a large delay."
   ]
  },
  {
   "cell_type": "code",
   "execution_count": 15,
   "metadata": {
    "execution": {
     "iopub.execute_input": "2021-02-28T21:29:56.833803Z",
     "iopub.status.busy": "2021-02-28T21:29:56.832820Z",
     "iopub.status.idle": "2021-02-28T21:30:00.610488Z",
     "shell.execute_reply": "2021-02-28T21:30:00.610999Z"
    },
    "papermill": {
     "duration": 3.823894,
     "end_time": "2021-02-28T21:30:00.611220",
     "exception": false,
     "start_time": "2021-02-28T21:29:56.787326",
     "status": "completed"
    },
    "tags": []
   },
   "outputs": [
    {
     "data": {
      "image/png": "[encoded data removed]",
      "text/plain": [
       "<Figure size 720x504 with 1 Axes>"
      ]
     },
     "metadata": {
      "needs_background": "light"
     },
     "output_type": "display_data"
    }
   ],
   "source": [
    "delay_by_attribute('MONTH')"
   ]
  },
  {
   "cell_type": "code",
   "execution_count": 16,
   "metadata": {
    "execution": {
     "iopub.execute_input": "2021-02-28T21:30:00.702417Z",
     "iopub.status.busy": "2021-02-28T21:30:00.701029Z",
     "iopub.status.idle": "2021-02-28T21:30:04.818281Z",
     "shell.execute_reply": "2021-02-28T21:30:04.817561Z"
    },
    "papermill": {
     "duration": 4.164811,
     "end_time": "2021-02-28T21:30:04.818457",
     "exception": false,
     "start_time": "2021-02-28T21:30:00.653646",
     "status": "completed"
    },
    "tags": []
   },
   "outputs": [
    {
     "data": {
      "image/png": "[encoded data removed]",
      "text/plain": [
       "<Figure size 720x504 with 1 Axes>"
      ]
     },
     "metadata": {
      "needs_background": "light"
     },
     "output_type": "display_data"
    }
   ],
   "source": [
    "delay_by_attribute('DAY')"
   ]
  },
  {
   "cell_type": "markdown",
   "metadata": {
    "papermill": {
     "duration": 0.045499,
     "end_time": "2021-02-28T21:30:04.908677",
     "exception": false,
     "start_time": "2021-02-28T21:30:04.863178",
     "status": "completed"
    },
    "tags": []
   },
   "source": [
    "From the correlation matrix and the plots above we can see that delays are not correlated with months nor days."
   ]
  },
  {
   "cell_type": "code",
   "execution_count": 17,
   "metadata": {
    "execution": {
     "iopub.execute_input": "2021-02-28T21:30:05.009462Z",
     "iopub.status.busy": "2021-02-28T21:30:05.008097Z",
     "iopub.status.idle": "2021-02-28T21:30:14.517841Z",
     "shell.execute_reply": "2021-02-28T21:30:14.516610Z"
    },
    "papermill": {
     "duration": 9.564339,
     "end_time": "2021-02-28T21:30:14.518023",
     "exception": false,
     "start_time": "2021-02-28T21:30:04.953684",
     "status": "completed"
    },
    "tags": []
   },
   "outputs": [
    {
     "data": {
      "image/png": "[encoded data removed]",
      "text/plain": [
       "<Figure size 720x1080 with 1 Axes>"
      ]
     },
     "metadata": {
      "needs_background": "light"
     },
     "output_type": "display_data"
    }
   ],
   "source": [
    "result = pd.merge(flights[['ORIGIN_AIRPORT', 'DELAY_TYPE']], \n",
    "                  airports[['IATA_CODE', 'STATE']], \n",
    "                  left_on='ORIGIN_AIRPORT', right_on='IATA_CODE')\n",
    "\n",
    "delay_by_attribute('STATE', df=result, figsize=(10, 15))"
   ]
  },
  {
   "cell_type": "markdown",
   "metadata": {
    "papermill": {
     "duration": 0.067107,
     "end_time": "2021-02-28T21:30:14.652384",
     "exception": false,
     "start_time": "2021-02-28T21:30:14.585277",
     "status": "completed"
    },
    "tags": []
   },
   "source": [
    "**Statistiques of outliers**\n",
    "\n",
    "if we consider delays of more than 10 minutes to be significant delays, than let's see how much in percentage these delays represent of the dataset"
   ]
  },
  {
   "cell_type": "code",
   "execution_count": 18,
   "metadata": {
    "execution": {
     "iopub.execute_input": "2021-02-28T21:30:14.790531Z",
     "iopub.status.busy": "2021-02-28T21:30:14.789693Z",
     "iopub.status.idle": "2021-02-28T21:30:14.809858Z",
     "shell.execute_reply": "2021-02-28T21:30:14.810549Z"
    },
    "papermill": {
     "duration": 0.09121,
     "end_time": "2021-02-28T21:30:14.810788",
     "exception": false,
     "start_time": "2021-02-28T21:30:14.719578",
     "status": "completed"
    },
    "tags": []
   },
   "outputs": [
    {
     "name": "stdout",
     "output_type": "stream",
     "text": [
      "There are 1257676 flights with large delays (more than 10min), which represent 22.01% of the flights\n"
     ]
    }
   ],
   "source": [
    "nb_of_large_delays = (flights.ARRIVAL_DELAY > 10).sum()\n",
    "percent_of_large_delays = np.round(nb_of_large_delays * 100 / len(flights), 2)\n",
    "print('There are {} flights with large delays (more than 10min), which represent {}% of the flights'\n",
    "      .format(nb_of_large_delays, percent_of_large_delays))"
   ]
  },
  {
   "cell_type": "code",
   "execution_count": 19,
   "metadata": {
    "execution": {
     "iopub.execute_input": "2021-02-28T21:30:14.919025Z",
     "iopub.status.busy": "2021-02-28T21:30:14.918359Z",
     "iopub.status.idle": "2021-02-28T21:30:14.931545Z",
     "shell.execute_reply": "2021-02-28T21:30:14.932042Z"
    },
    "papermill": {
     "duration": 0.071597,
     "end_time": "2021-02-28T21:30:14.932247",
     "exception": false,
     "start_time": "2021-02-28T21:30:14.860650",
     "status": "completed"
    },
    "tags": []
   },
   "outputs": [
    {
     "name": "stdout",
     "output_type": "stream",
     "text": [
      "There are 72438 flights with rare delays (> 5h) which represent 1.3% of all flights, which also represent 5.8% of large delays\n"
     ]
    }
   ],
   "source": [
    "# Number of flights that have more than 150min (2.5h) delay\n",
    "nb_of_rare_delays = (flights.ARRIVAL_DELAY > 150).sum()\n",
    "percent_of_rare_delays = np.round(nb_of_rare_delays * 100 / len(flights), 1)\n",
    "\n",
    "# percent of rare delays with regard to large delays\n",
    "percent_rare_large = np.round((nb_of_rare_delays * 100 / nb_of_large_delays), 1)\n",
    "print(\n",
    "    'There are {} flights with rare delays (> 5h) which represent {}% of all flights, which also represent {}% of large delays'\n",
    "     .format(nb_of_rare_delays, percent_of_rare_delays, percent_rare_large))"
   ]
  },
  {
   "cell_type": "markdown",
   "metadata": {
    "papermill": {
     "duration": 0.044633,
     "end_time": "2021-02-28T21:30:15.023090",
     "exception": false,
     "start_time": "2021-02-28T21:30:14.978457",
     "status": "completed"
    },
    "tags": []
   },
   "source": [
    " <table style=\"width:50%; border: 1px solid black; border-collapse: collapse;\">\n",
    "  <tr>\n",
    "    <th></th>\n",
    "    <th>All flights</th>\n",
    "    <th>Large delays (> 10min)</th>\n",
    "    <th>Rare delays (> 150min)</th>\n",
    "  </tr>\n",
    "    <tr>\n",
    "    <td>All flights</td>\n",
    "    <td>100%</td>\n",
    "    <td>/</td>\n",
    "    <td>/</td>\n",
    "  </tr>\n",
    "  <tr>\n",
    "    <td>Large delays (> 10min)</td>\n",
    "    <td>22%</td>\n",
    "    <td>100%</td>\n",
    "    <td>/</td>\n",
    "  </tr>\n",
    "  <tr>\n",
    "    <td>Rare delays (> 150min)</td>\n",
    "    <td>1.3%</td>\n",
    "    <td>5.8%</td>\n",
    "    <td>100%</td>\n",
    "  </tr>\n",
    "</table> "
   ]
  },
  {
   "cell_type": "markdown",
   "metadata": {
    "papermill": {
     "duration": 0.045606,
     "end_time": "2021-02-28T21:30:15.114552",
     "exception": false,
     "start_time": "2021-02-28T21:30:15.068946",
     "status": "completed"
    },
    "tags": []
   },
   "source": [
    "We can think of delays longer than 2.5 hours as outliers, so we need to remove them from the dataset"
   ]
  },
  {
   "cell_type": "code",
   "execution_count": 20,
   "metadata": {
    "execution": {
     "iopub.execute_input": "2021-02-28T21:30:15.210698Z",
     "iopub.status.busy": "2021-02-28T21:30:15.209903Z",
     "iopub.status.idle": "2021-02-28T21:30:15.752661Z",
     "shell.execute_reply": "2021-02-28T21:30:15.752086Z"
    },
    "papermill": {
     "duration": 0.591813,
     "end_time": "2021-02-28T21:30:15.752812",
     "exception": false,
     "start_time": "2021-02-28T21:30:15.160999",
     "status": "completed"
    },
    "tags": []
   },
   "outputs": [],
   "source": [
    "# Keep only delays less than 150min\n",
    "flights = flights[flights.ARRIVAL_DELAY < 150]"
   ]
  },
  {
   "cell_type": "markdown",
   "metadata": {
    "papermill": {
     "duration": 0.053479,
     "end_time": "2021-02-28T21:30:15.867913",
     "exception": false,
     "start_time": "2021-02-28T21:30:15.814434",
     "status": "completed"
    },
    "tags": []
   },
   "source": [
    "# Split the Dataset"
   ]
  },
  {
   "cell_type": "code",
   "execution_count": 21,
   "metadata": {
    "collapsed": true,
    "execution": {
     "iopub.execute_input": "2021-02-28T21:30:15.978842Z",
     "iopub.status.busy": "2021-02-28T21:30:15.977782Z",
     "iopub.status.idle": "2021-02-28T21:30:16.887133Z",
     "shell.execute_reply": "2021-02-28T21:30:16.886279Z"
    },
    "papermill": {
     "duration": 0.970777,
     "end_time": "2021-02-28T21:30:16.887314",
     "exception": false,
     "start_time": "2021-02-28T21:30:15.916537",
     "status": "completed"
    },
    "tags": []
   },
   "outputs": [
    {
     "name": "stderr",
     "output_type": "stream",
     "text": [
      "/opt/conda/lib/python3.7/site-packages/ipykernel_launcher.py:1: SettingWithCopyWarning: \n",
      "A value is trying to be set on a copy of a slice from a DataFrame.\n",
      "Try using .loc[row_indexer,col_indexer] = value instead\n",
      "\n",
      "See the caveats in the documentation: https://pandas.pydata.org/pandas-docs/stable/user_guide/indexing.html#returning-a-view-versus-a-copy\n",
      "  \"\"\"Entry point for launching an IPython kernel.\n",
      "/opt/conda/lib/python3.7/site-packages/ipykernel_launcher.py:2: SettingWithCopyWarning: \n",
      "A value is trying to be set on a copy of a slice from a DataFrame.\n",
      "Try using .loc[row_indexer,col_indexer] = value instead\n",
      "\n",
      "See the caveats in the documentation: https://pandas.pydata.org/pandas-docs/stable/user_guide/indexing.html#returning-a-view-versus-a-copy\n",
      "  \n"
     ]
    }
   ],
   "source": [
    "flights['ORIGIN_AIRPORT'] = flights['ORIGIN_AIRPORT'].astype(str)\n",
    "flights['DESTINATION_AIRPORT'] = flights['DESTINATION_AIRPORT'].astype(str)"
   ]
  },
  {
   "cell_type": "code",
   "execution_count": 22,
   "metadata": {
    "execution": {
     "iopub.execute_input": "2021-02-28T21:30:17.039232Z",
     "iopub.status.busy": "2021-02-28T21:30:17.038377Z",
     "iopub.status.idle": "2021-02-28T21:30:21.765730Z",
     "shell.execute_reply": "2021-02-28T21:30:21.766555Z"
    },
    "papermill": {
     "duration": 4.805676,
     "end_time": "2021-02-28T21:30:21.766815",
     "exception": false,
     "start_time": "2021-02-28T21:30:16.961139",
     "status": "completed"
    },
    "tags": []
   },
   "outputs": [],
   "source": [
    "from sklearn.model_selection import train_test_split\n",
    "\n",
    "train_set, test_set = train_test_split(flights, test_size=0.2, random_state=42)\n",
    "\n",
    "X_train = train_set.drop(\"ARRIVAL_DELAY\", axis=1)\n",
    "y_train = train_set['ARRIVAL_DELAY'].copy()\n",
    "\n",
    "X_test = test_set.drop('ARRIVAL_DELAY', axis=1)\n",
    "y_test = test_set['ARRIVAL_DELAY'].copy()"
   ]
  },
  {
   "cell_type": "markdown",
   "metadata": {
    "papermill": {
     "duration": 0.072797,
     "end_time": "2021-02-28T21:30:21.911860",
     "exception": false,
     "start_time": "2021-02-28T21:30:21.839063",
     "status": "completed"
    },
    "tags": []
   },
   "source": [
    "# Encoding Categorical Attributes"
   ]
  },
  {
   "cell_type": "markdown",
   "metadata": {
    "papermill": {
     "duration": 0.07073,
     "end_time": "2021-02-28T21:30:22.055385",
     "exception": false,
     "start_time": "2021-02-28T21:30:21.984655",
     "status": "completed"
    },
    "tags": []
   },
   "source": [
    "I chose embedding to convert categorical attributes to numbers: ordinal encoding is not good since the model will assume that two nearby values are more familiar than to distant values, which is obviously not the case for our categorical attributes. Also, our categorical attributes have a large number of categories (629 for airports), so one-hot encoding will result in a large number of features (more than 1000). This will affect performance and training."
   ]
  },
  {
   "cell_type": "code",
   "execution_count": 23,
   "metadata": {
    "execution": {
     "iopub.execute_input": "2021-02-28T21:30:22.690390Z",
     "iopub.status.busy": "2021-02-28T21:30:22.689708Z",
     "iopub.status.idle": "2021-02-28T21:30:23.873139Z",
     "shell.execute_reply": "2021-02-28T21:30:23.872454Z"
    },
    "papermill": {
     "duration": 1.745438,
     "end_time": "2021-02-28T21:30:23.873291",
     "exception": false,
     "start_time": "2021-02-28T21:30:22.127853",
     "status": "completed"
    },
    "tags": []
   },
   "outputs": [],
   "source": [
    "dest_airport = X_train['DESTINATION_AIRPORT'].unique()\n",
    "orig_airport = X_train['ORIGIN_AIRPORT'].unique()\n",
    "airports = np.unique(np.hstack([dest_airport, orig_airport]))\n",
    "airlines = X_train['AIRLINE'].unique()"
   ]
  },
  {
   "cell_type": "code",
   "execution_count": 24,
   "metadata": {
    "execution": {
     "iopub.execute_input": "2021-02-28T21:30:23.978518Z",
     "iopub.status.busy": "2021-02-28T21:30:23.977819Z",
     "iopub.status.idle": "2021-02-28T21:30:32.159356Z",
     "shell.execute_reply": "2021-02-28T21:30:32.158701Z"
    },
    "papermill": {
     "duration": 8.238946,
     "end_time": "2021-02-28T21:30:32.159500",
     "exception": false,
     "start_time": "2021-02-28T21:30:23.920554",
     "status": "completed"
    },
    "tags": []
   },
   "outputs": [],
   "source": [
    "from sklearn.base import BaseEstimator, TransformerMixin\n",
    "import tensorflow as tf \n",
    "\n",
    "class EmbeddingTransorfmer(BaseEstimator, TransformerMixin):\n",
    "    def __init__(self, vocab, n_oov_buckets=10, embedding_dim=10):\n",
    "        self.n_oov_buckets = n_oov_buckets\n",
    "        self.vocab = vocab\n",
    "        self.embedding_dim = embedding_dim\n",
    "    \n",
    "    def fit(self, X, y=None):\n",
    "        return self\n",
    "    \n",
    "    def transform(self, X):\n",
    "        vocab = tf.constant(self.vocab)\n",
    "        indices = tf.range(len(vocab), dtype=tf.int64)\n",
    "        table_init = tf.lookup.KeyValueTensorInitializer(vocab, indices)\n",
    "        table = tf.lookup.StaticVocabularyTable(table_init, self.n_oov_buckets)\n",
    "        \n",
    "        embedding_dim = self.embedding_dim\n",
    "        embedding_matrix = tf.random.uniform([len(vocab) + self.n_oov_buckets, embedding_dim])\n",
    "        cat_indices = table.lookup(tf.constant(X))\n",
    "        return tf.nn.embedding_lookup(embedding_matrix, cat_indices).numpy()"
   ]
  },
  {
   "cell_type": "markdown",
   "metadata": {
    "papermill": {
     "duration": 0.046917,
     "end_time": "2021-02-28T21:30:32.255389",
     "exception": false,
     "start_time": "2021-02-28T21:30:32.208472",
     "status": "completed"
    },
    "tags": []
   },
   "source": [
    "# Preprocessing the Input Features"
   ]
  },
  {
   "cell_type": "code",
   "execution_count": 25,
   "metadata": {
    "execution": {
     "iopub.execute_input": "2021-02-28T21:30:32.360230Z",
     "iopub.status.busy": "2021-02-28T21:30:32.359486Z",
     "iopub.status.idle": "2021-02-28T21:30:36.154598Z",
     "shell.execute_reply": "2021-02-28T21:30:36.155577Z"
    },
    "papermill": {
     "duration": 3.852736,
     "end_time": "2021-02-28T21:30:36.155888",
     "exception": false,
     "start_time": "2021-02-28T21:30:32.303152",
     "status": "completed"
    },
    "tags": []
   },
   "outputs": [],
   "source": [
    "from sklearn.pipeline import Pipeline\n",
    "from sklearn.preprocessing import StandardScaler\n",
    "from sklearn.compose import ColumnTransformer\n",
    "\n",
    "num_pipeline = Pipeline([\n",
    "    ('std_scaler', StandardScaler()),\n",
    "])\n",
    "\n",
    "X_train_num = X_train.drop(['AIRLINE', 'ORIGIN_AIRPORT', 'DESTINATION_AIRPORT'], axis=1, errors='ignore')\n",
    "num_attribs = list(X_train_num)\n",
    "\n",
    "full_pipeline = ColumnTransformer([\n",
    "    ('num', num_pipeline, num_attribs),\n",
    "    ('cat1', EmbeddingTransorfmer(airports), 'ORIGIN_AIRPORT'),\n",
    "    ('cat2', EmbeddingTransorfmer(airports), 'DESTINATION_AIRPORT'),\n",
    "    ('cat3', EmbeddingTransorfmer(airlines), 'AIRLINE')\n",
    "])\n",
    "\n",
    "X_train_prepared = full_pipeline.fit_transform(X_train)"
   ]
  },
  {
   "cell_type": "markdown",
   "metadata": {
    "papermill": {
     "duration": 0.047295,
     "end_time": "2021-02-28T21:30:36.251027",
     "exception": false,
     "start_time": "2021-02-28T21:30:36.203732",
     "status": "completed"
    },
    "tags": []
   },
   "source": [
    "# Training and Evaluation"
   ]
  },
  {
   "cell_type": "markdown",
   "metadata": {
    "papermill": {
     "duration": 0.047067,
     "end_time": "2021-02-28T21:30:36.346643",
     "exception": false,
     "start_time": "2021-02-28T21:30:36.299576",
     "status": "completed"
    },
    "tags": []
   },
   "source": [
    "## Ridge Regression"
   ]
  },
  {
   "cell_type": "code",
   "execution_count": 26,
   "metadata": {
    "execution": {
     "iopub.execute_input": "2021-02-28T21:30:36.446016Z",
     "iopub.status.busy": "2021-02-28T21:30:36.445376Z",
     "iopub.status.idle": "2021-02-28T21:30:41.908264Z",
     "shell.execute_reply": "2021-02-28T21:30:41.908917Z"
    },
    "papermill": {
     "duration": 5.51522,
     "end_time": "2021-02-28T21:30:41.909150",
     "exception": false,
     "start_time": "2021-02-28T21:30:36.393930",
     "status": "completed"
    },
    "tags": []
   },
   "outputs": [
    {
     "data": {
      "text/plain": [
       "Ridge(alpha=0.01, random_state=42)"
      ]
     },
     "execution_count": 26,
     "metadata": {},
     "output_type": "execute_result"
    }
   ],
   "source": [
    "from sklearn.linear_model import Ridge\n",
    "from sklearn.metrics import mean_squared_error\n",
    "\n",
    "ridge_reg = Ridge(alpha=0.01, random_state=42)\n",
    "ridge_reg.fit(X_train_prepared, y_train)"
   ]
  },
  {
   "cell_type": "markdown",
   "metadata": {
    "papermill": {
     "duration": 0.055705,
     "end_time": "2021-02-28T21:30:42.029672",
     "exception": false,
     "start_time": "2021-02-28T21:30:41.973967",
     "status": "completed"
    },
    "tags": []
   },
   "source": [
    "Let's try to predict some data"
   ]
  },
  {
   "cell_type": "code",
   "execution_count": 27,
   "metadata": {
    "execution": {
     "iopub.execute_input": "2021-02-28T21:30:42.141153Z",
     "iopub.status.busy": "2021-02-28T21:30:42.140276Z",
     "iopub.status.idle": "2021-02-28T21:30:42.158297Z",
     "shell.execute_reply": "2021-02-28T21:30:42.158838Z"
    },
    "papermill": {
     "duration": 0.080827,
     "end_time": "2021-02-28T21:30:42.159028",
     "exception": false,
     "start_time": "2021-02-28T21:30:42.078201",
     "status": "completed"
    },
    "tags": []
   },
   "outputs": [
    {
     "name": "stdout",
     "output_type": "stream",
     "text": [
      "Predictions: [-10.05932458  -9.28800082  -3.66917697  10.57917597   3.34607729]\n"
     ]
    }
   ],
   "source": [
    "some_data = X_train.iloc[:5]\n",
    "some_labels = y_train.iloc[:5]\n",
    "some_data_prepared = full_pipeline.transform(some_data)\n",
    "print(\"Predictions:\", ridge_reg.predict(some_data_prepared))"
   ]
  },
  {
   "cell_type": "code",
   "execution_count": 28,
   "metadata": {
    "execution": {
     "iopub.execute_input": "2021-02-28T21:30:42.261778Z",
     "iopub.status.busy": "2021-02-28T21:30:42.261091Z",
     "iopub.status.idle": "2021-02-28T21:30:42.264296Z",
     "shell.execute_reply": "2021-02-28T21:30:42.263652Z"
    },
    "papermill": {
     "duration": 0.057572,
     "end_time": "2021-02-28T21:30:42.264434",
     "exception": false,
     "start_time": "2021-02-28T21:30:42.206862",
     "status": "completed"
    },
    "tags": []
   },
   "outputs": [
    {
     "name": "stdout",
     "output_type": "stream",
     "text": [
      "Labels: [-13.0, 5.0, -19.0, 8.0, 4.0]\n"
     ]
    }
   ],
   "source": [
    "print(\"Labels:\", list(some_labels))"
   ]
  },
  {
   "cell_type": "markdown",
   "metadata": {
    "papermill": {
     "duration": 0.049082,
     "end_time": "2021-02-28T21:30:42.363489",
     "exception": false,
     "start_time": "2021-02-28T21:30:42.314407",
     "status": "completed"
    },
    "tags": []
   },
   "source": [
    "We can see that the predictions are not exactly accurate! Let's measure the RMSE on the whole training set:"
   ]
  },
  {
   "cell_type": "code",
   "execution_count": 29,
   "metadata": {
    "execution": {
     "iopub.execute_input": "2021-02-28T21:30:42.467317Z",
     "iopub.status.busy": "2021-02-28T21:30:42.466486Z",
     "iopub.status.idle": "2021-02-28T21:30:42.765020Z",
     "shell.execute_reply": "2021-02-28T21:30:42.764156Z"
    },
    "papermill": {
     "duration": 0.353062,
     "end_time": "2021-02-28T21:30:42.765255",
     "exception": false,
     "start_time": "2021-02-28T21:30:42.412193",
     "status": "completed"
    },
    "tags": []
   },
   "outputs": [
    {
     "data": {
      "text/plain": [
       "'12.37 min'"
      ]
     },
     "execution_count": 29,
     "metadata": {},
     "output_type": "execute_result"
    }
   ],
   "source": [
    "predictions = ridge_reg.predict(X_train_prepared)\n",
    "ridge_mse = mean_squared_error(y_train, predictions)\n",
    "ridge_rmse = np.sqrt(ridge_mse)\n",
    "'{:.2f} min'.format(ridge_rmse)"
   ]
  },
  {
   "cell_type": "markdown",
   "metadata": {
    "papermill": {
     "duration": 0.075299,
     "end_time": "2021-02-28T21:30:42.915260",
     "exception": false,
     "start_time": "2021-02-28T21:30:42.839961",
     "status": "completed"
    },
    "tags": []
   },
   "source": [
    "The typical error the model make is 12.37min which is not very good. \n",
    "\n",
    "Unfortunatly, I couldn't use other models because training took too long, so let's try fine-tuning the ridge regression model."
   ]
  },
  {
   "cell_type": "markdown",
   "metadata": {
    "papermill": {
     "duration": 0.07391,
     "end_time": "2021-02-28T21:30:43.064387",
     "exception": false,
     "start_time": "2021-02-28T21:30:42.990477",
     "status": "completed"
    },
    "tags": []
   },
   "source": [
    "## Fine Tuning Using Grid Search"
   ]
  },
  {
   "cell_type": "code",
   "execution_count": 30,
   "metadata": {
    "execution": {
     "iopub.execute_input": "2021-02-28T21:30:43.231863Z",
     "iopub.status.busy": "2021-02-28T21:30:43.230968Z",
     "iopub.status.idle": "2021-02-28T21:33:02.485320Z",
     "shell.execute_reply": "2021-02-28T21:33:02.486171Z"
    },
    "papermill": {
     "duration": 139.338366,
     "end_time": "2021-02-28T21:33:02.486422",
     "exception": false,
     "start_time": "2021-02-28T21:30:43.148056",
     "status": "completed"
    },
    "tags": []
   },
   "outputs": [
    {
     "name": "stdout",
     "output_type": "stream",
     "text": [
      "Fitting 4 folds for each of 7 candidates, totalling 28 fits\n",
      "[CV] END .........................................alpha=0.01; total time=   4.6s\n",
      "[CV] END .........................................alpha=0.01; total time=   4.5s\n",
      "[CV] END .........................................alpha=0.01; total time=   4.5s\n",
      "[CV] END .........................................alpha=0.01; total time=   4.6s\n",
      "[CV] END ..........................................alpha=0.1; total time=   4.6s\n",
      "[CV] END ..........................................alpha=0.1; total time=   4.6s\n",
      "[CV] END ..........................................alpha=0.1; total time=   4.5s\n",
      "[CV] END ..........................................alpha=0.1; total time=   4.7s\n",
      "[CV] END ............................................alpha=1; total time=   4.5s\n",
      "[CV] END ............................................alpha=1; total time=   4.5s\n",
      "[CV] END ............................................alpha=1; total time=   4.6s\n",
      "[CV] END ............................................alpha=1; total time=   4.5s\n",
      "[CV] END ...........................................alpha=10; total time=   4.5s\n",
      "[CV] END ...........................................alpha=10; total time=   4.6s\n",
      "[CV] END ...........................................alpha=10; total time=   4.6s\n",
      "[CV] END ...........................................alpha=10; total time=   4.5s\n",
      "[CV] END ..........................................alpha=100; total time=   4.5s\n",
      "[CV] END ..........................................alpha=100; total time=   4.5s\n",
      "[CV] END ..........................................alpha=100; total time=   4.4s\n",
      "[CV] END ..........................................alpha=100; total time=   4.8s\n",
      "[CV] END ....................................solver=cholesky; total time=   4.8s\n",
      "[CV] END ....................................solver=cholesky; total time=   4.6s\n",
      "[CV] END ....................................solver=cholesky; total time=   4.5s\n",
      "[CV] END ....................................solver=cholesky; total time=   4.5s\n",
      "[CV] END ........................................solver=lsqr; total time=   4.4s\n",
      "[CV] END ........................................solver=lsqr; total time=   4.4s\n",
      "[CV] END ........................................solver=lsqr; total time=   4.5s\n",
      "[CV] END ........................................solver=lsqr; total time=   4.4s\n"
     ]
    },
    {
     "data": {
      "text/plain": [
       "GridSearchCV(cv=4, estimator=Ridge(alpha=0.01, random_state=42),\n",
       "             param_grid=[{'alpha': [0.01, 0.1, 1, 10, 100]},\n",
       "                         {'solver': ['cholesky', 'lsqr']}],\n",
       "             return_train_score=True, scoring='neg_mean_squared_error',\n",
       "             verbose=2)"
      ]
     },
     "execution_count": 30,
     "metadata": {},
     "output_type": "execute_result"
    }
   ],
   "source": [
    "from sklearn.model_selection import GridSearchCV\n",
    "\n",
    "param_grid = [\n",
    "    {'alpha': [0.01, 0.1, 1, 10, 100]},\n",
    "    {'solver': ['cholesky', 'lsqr']}\n",
    "]\n",
    "\n",
    "grid_search = GridSearchCV(ridge_reg, param_grid, cv=4,\n",
    "                          scoring='neg_mean_squared_error',\n",
    "                          return_train_score=True,\n",
    "                          verbose=2)\n",
    "grid_search.fit(X_train_prepared, y_train)"
   ]
  },
  {
   "cell_type": "code",
   "execution_count": 31,
   "metadata": {
    "execution": {
     "iopub.execute_input": "2021-02-28T21:33:02.694960Z",
     "iopub.status.busy": "2021-02-28T21:33:02.694017Z",
     "iopub.status.idle": "2021-02-28T21:33:02.700676Z",
     "shell.execute_reply": "2021-02-28T21:33:02.700070Z"
    },
    "papermill": {
     "duration": 0.104345,
     "end_time": "2021-02-28T21:33:02.700839",
     "exception": false,
     "start_time": "2021-02-28T21:33:02.596494",
     "status": "completed"
    },
    "tags": []
   },
   "outputs": [
    {
     "data": {
      "text/plain": [
       "12.372311284393446"
      ]
     },
     "execution_count": 31,
     "metadata": {},
     "output_type": "execute_result"
    }
   ],
   "source": [
    "np.sqrt(-grid_search.best_score_)"
   ]
  },
  {
   "cell_type": "markdown",
   "metadata": {
    "papermill": {
     "duration": 0.060379,
     "end_time": "2021-02-28T21:33:02.823090",
     "exception": false,
     "start_time": "2021-02-28T21:33:02.762711",
     "status": "completed"
    },
    "tags": []
   },
   "source": [
    "# Evaluation on the Test Set"
   ]
  },
  {
   "cell_type": "code",
   "execution_count": 32,
   "metadata": {
    "execution": {
     "iopub.execute_input": "2021-02-28T21:33:02.963901Z",
     "iopub.status.busy": "2021-02-28T21:33:02.951838Z",
     "iopub.status.idle": "2021-02-28T21:33:03.757707Z",
     "shell.execute_reply": "2021-02-28T21:33:03.758262Z"
    },
    "papermill": {
     "duration": 0.873673,
     "end_time": "2021-02-28T21:33:03.758470",
     "exception": false,
     "start_time": "2021-02-28T21:33:02.884797",
     "status": "completed"
    },
    "tags": []
   },
   "outputs": [],
   "source": [
    "model = grid_search.best_estimator_\n",
    "\n",
    "X_test_prepared = full_pipeline.transform(X_test)\n",
    "test_predictions = model.predict(X_test_prepared)\n",
    "test_mse = mean_squared_error(y_test, test_predictions)\n",
    "test_rmse = np.sqrt(test_mse)"
   ]
  },
  {
   "cell_type": "code",
   "execution_count": 33,
   "metadata": {
    "execution": {
     "iopub.execute_input": "2021-02-28T21:33:03.886090Z",
     "iopub.status.busy": "2021-02-28T21:33:03.885296Z",
     "iopub.status.idle": "2021-02-28T21:33:03.890890Z",
     "shell.execute_reply": "2021-02-28T21:33:03.890085Z"
    },
    "papermill": {
     "duration": 0.070499,
     "end_time": "2021-02-28T21:33:03.891035",
     "exception": false,
     "start_time": "2021-02-28T21:33:03.820536",
     "status": "completed"
    },
    "tags": []
   },
   "outputs": [
    {
     "data": {
      "text/plain": [
       "12.58277815286772"
      ]
     },
     "execution_count": 33,
     "metadata": {},
     "output_type": "execute_result"
    }
   ],
   "source": [
    "test_rmse"
   ]
  },
  {
   "cell_type": "markdown",
   "metadata": {
    "papermill": {
     "duration": 0.060979,
     "end_time": "2021-02-28T21:33:04.012719",
     "exception": false,
     "start_time": "2021-02-28T21:33:03.951740",
     "status": "completed"
    },
    "tags": []
   },
   "source": [
    "# References\n",
    "\n",
    "* [Predicting flight delays [Tutorial]](https://www.kaggle.com/fabiendaniel/predicting-flight-delays-tutorial)\n",
    "* [Flight_Delay_Prediction](https://www.kaggle.com/hrishikeshmalkar/flight-delay-prediction)\n",
    "* https://github.com/Djinny/Formation-Data-Scientist/tree/master/Pr%C3%A9dire%20le%20retard%20d'avions\n",
    "* https://github.com/xmontamat/OC_DataScience/tree/master/OC_Project4_Flights_delay"
   ]
  },
  {
   "cell_type": "code",
   "execution_count": null,
   "metadata": {
    "papermill": {
     "duration": 0.060783,
     "end_time": "2021-02-28T21:33:04.135500",
     "exception": false,
     "start_time": "2021-02-28T21:33:04.074717",
     "status": "completed"
    },
    "tags": []
   },
   "outputs": [],
   "source": []
  }
 ],
 "metadata": {
  "kernelspec": {
   "display_name": "Python 3",
   "language": "python",
   "name": "python3"
  },
  "language_info": {
   "codemirror_mode": {
    "name": "ipython",
    "version": 3
   },
   "file_extension": ".py",
   "mimetype": "text/x-python",
   "name": "python",
   "nbconvert_exporter": "python",
   "pygments_lexer": "ipython3",
   "version": "3.7.9"
  },
  "papermill": {
   "default_parameters": {},
   "duration": 245.753337,
   "end_time": "2021-02-28T21:33:06.421223",
   "environment_variables": {},
   "exception": null,
   "input_path": "__notebook__.ipynb",
   "output_path": "__notebook__.ipynb",
   "parameters": {},
   "start_time": "2021-02-28T21:29:00.667886",
   "version": "2.2.2"
  }
 },
 "nbformat": 4,
 "nbformat_minor": 4
}
